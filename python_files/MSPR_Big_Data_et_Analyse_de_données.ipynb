{
 "cells": [
  {
   "cell_type": "code",
   "execution_count": 1,
   "id": "e35ac16c",
   "metadata": {
    "ExecuteTime": {
     "end_time": "2024-02-26T09:23:57.735519300Z",
     "start_time": "2024-02-26T09:23:54.555510400Z"
    }
   },
   "outputs": [],
   "source": [
    "import pandas as pd"
   ]
  },
  {
   "cell_type": "code",
   "execution_count": 2,
   "id": "59689df8",
   "metadata": {
    "ExecuteTime": {
     "end_time": "2024-02-26T09:24:03.629143800Z",
     "start_time": "2024-02-26T09:24:03.573151700Z"
    }
   },
   "outputs": [],
   "source": [
    "chemin_fichier = r'C:\\Users\\Mehdi\\Downloads\\resultats-par-niveau-dpt-t1-france-entiere_1.xlsx'"
   ]
  },
  {
   "cell_type": "code",
   "execution_count": 6,
   "id": "26a8685a",
   "metadata": {
    "ExecuteTime": {
     "end_time": "2024-02-26T09:25:08.617565800Z",
     "start_time": "2024-02-26T09:25:08.347567300Z"
    }
   },
   "outputs": [
    {
     "data": {
      "text/plain": "    Code du département           Libellé du département Etat saisie  \\\n0                    01                              Ain     Complet   \n1                    02                            Aisne     Complet   \n2                    03                           Allier     Complet   \n3                    04          Alpes-de-Haute-Provence     Complet   \n4                    05                     Hautes-Alpes     Complet   \n..                  ...                              ...         ...   \n102                  ZP              Polynésie française     Complet   \n103                  ZS         Saint-Pierre-et-Miquelon     Complet   \n104                  ZW                 Wallis et Futuna     Complet   \n105                  ZX    Saint-Martin/Saint-Barthélemy     Complet   \n106                  ZZ  Français établis hors de France     Complet   \n\n     Inscrits  Abstentions  % Abs/Ins  Votants  % Vot/Ins  Blancs  \\\n0      438109        97541      22.26   340568      77.74    5641   \n1      373544       101089      27.06   272455      72.94    3767   \n2      249991        58497      23.40   191494      76.60    3749   \n3      128075        29290      22.87    98785      77.13    1478   \n4      113519        25357      22.34    88162      77.66    1395   \n..        ...          ...        ...      ...        ...     ...   \n102    205576       142121      69.13    63455      30.87    1490   \n103      5045         2272      45.03     2773      54.97      47   \n104      9528         4125      43.29     5403      56.71      27   \n105     24414        15812      64.77     8602      35.23     150   \n106   1435746       931455      64.88   504291      35.12    3193   \n\n     % Blancs/Ins  ...  Unnamed: 79  Unnamed: 80  Unnamed: 81  Unnamed: 82  \\\n0            1.29  ...     Philippe         2172         0.50         0.65   \n1            1.01  ...     Philippe         2118         0.57         0.80   \n2            1.50  ...     Philippe         1503         0.60         0.81   \n3            1.15  ...     Philippe          865         0.68         0.89   \n4            1.23  ...     Philippe          801         0.71         0.93   \n..            ...  ...          ...          ...          ...          ...   \n102          0.72  ...     Philippe          451         0.22         0.75   \n103          0.93  ...     Philippe           50         0.99         1.85   \n104          0.28  ...     Philippe           48         0.50         0.90   \n105          0.61  ...     Philippe           63         0.26         0.75   \n106          0.22  ...     Philippe         3145         0.22         0.63   \n\n     Unnamed: 83    Unnamed: 84  Unnamed: 85 Unnamed: 86 Unnamed: 87  \\\n0              M  DUPONT-AIGNAN      Nicolas        8998        2.05   \n1              M  DUPONT-AIGNAN      Nicolas        5790        1.55   \n2              M  DUPONT-AIGNAN      Nicolas        4216        1.69   \n3              M  DUPONT-AIGNAN      Nicolas        2504        1.96   \n4              M  DUPONT-AIGNAN      Nicolas        2142        1.89   \n..           ...            ...          ...         ...         ...   \n102            M  DUPONT-AIGNAN      Nicolas        1969        0.96   \n103            M  DUPONT-AIGNAN      Nicolas          82        1.63   \n104            M  DUPONT-AIGNAN      Nicolas         244        2.56   \n105            M  DUPONT-AIGNAN      Nicolas         339        1.39   \n106            M  DUPONT-AIGNAN      Nicolas        7074        0.49   \n\n    Unnamed: 88  \n0          2.70  \n1          2.18  \n2          2.27  \n3          2.59  \n4          2.48  \n..          ...  \n102        3.28  \n103        3.04  \n104        4.55  \n105        4.05  \n106        1.42  \n\n[107 rows x 89 columns]",
      "text/html": "<div>\n<style scoped>\n    .dataframe tbody tr th:only-of-type {\n        vertical-align: middle;\n    }\n\n    .dataframe tbody tr th {\n        vertical-align: top;\n    }\n\n    .dataframe thead th {\n        text-align: right;\n    }\n</style>\n<table border=\"1\" class=\"dataframe\">\n  <thead>\n    <tr style=\"text-align: right;\">\n      <th></th>\n      <th>Code du département</th>\n      <th>Libellé du département</th>\n      <th>Etat saisie</th>\n      <th>Inscrits</th>\n      <th>Abstentions</th>\n      <th>% Abs/Ins</th>\n      <th>Votants</th>\n      <th>% Vot/Ins</th>\n      <th>Blancs</th>\n      <th>% Blancs/Ins</th>\n      <th>...</th>\n      <th>Unnamed: 79</th>\n      <th>Unnamed: 80</th>\n      <th>Unnamed: 81</th>\n      <th>Unnamed: 82</th>\n      <th>Unnamed: 83</th>\n      <th>Unnamed: 84</th>\n      <th>Unnamed: 85</th>\n      <th>Unnamed: 86</th>\n      <th>Unnamed: 87</th>\n      <th>Unnamed: 88</th>\n    </tr>\n  </thead>\n  <tbody>\n    <tr>\n      <th>0</th>\n      <td>01</td>\n      <td>Ain</td>\n      <td>Complet</td>\n      <td>438109</td>\n      <td>97541</td>\n      <td>22.26</td>\n      <td>340568</td>\n      <td>77.74</td>\n      <td>5641</td>\n      <td>1.29</td>\n      <td>...</td>\n      <td>Philippe</td>\n      <td>2172</td>\n      <td>0.50</td>\n      <td>0.65</td>\n      <td>M</td>\n      <td>DUPONT-AIGNAN</td>\n      <td>Nicolas</td>\n      <td>8998</td>\n      <td>2.05</td>\n      <td>2.70</td>\n    </tr>\n    <tr>\n      <th>1</th>\n      <td>02</td>\n      <td>Aisne</td>\n      <td>Complet</td>\n      <td>373544</td>\n      <td>101089</td>\n      <td>27.06</td>\n      <td>272455</td>\n      <td>72.94</td>\n      <td>3767</td>\n      <td>1.01</td>\n      <td>...</td>\n      <td>Philippe</td>\n      <td>2118</td>\n      <td>0.57</td>\n      <td>0.80</td>\n      <td>M</td>\n      <td>DUPONT-AIGNAN</td>\n      <td>Nicolas</td>\n      <td>5790</td>\n      <td>1.55</td>\n      <td>2.18</td>\n    </tr>\n    <tr>\n      <th>2</th>\n      <td>03</td>\n      <td>Allier</td>\n      <td>Complet</td>\n      <td>249991</td>\n      <td>58497</td>\n      <td>23.40</td>\n      <td>191494</td>\n      <td>76.60</td>\n      <td>3749</td>\n      <td>1.50</td>\n      <td>...</td>\n      <td>Philippe</td>\n      <td>1503</td>\n      <td>0.60</td>\n      <td>0.81</td>\n      <td>M</td>\n      <td>DUPONT-AIGNAN</td>\n      <td>Nicolas</td>\n      <td>4216</td>\n      <td>1.69</td>\n      <td>2.27</td>\n    </tr>\n    <tr>\n      <th>3</th>\n      <td>04</td>\n      <td>Alpes-de-Haute-Provence</td>\n      <td>Complet</td>\n      <td>128075</td>\n      <td>29290</td>\n      <td>22.87</td>\n      <td>98785</td>\n      <td>77.13</td>\n      <td>1478</td>\n      <td>1.15</td>\n      <td>...</td>\n      <td>Philippe</td>\n      <td>865</td>\n      <td>0.68</td>\n      <td>0.89</td>\n      <td>M</td>\n      <td>DUPONT-AIGNAN</td>\n      <td>Nicolas</td>\n      <td>2504</td>\n      <td>1.96</td>\n      <td>2.59</td>\n    </tr>\n    <tr>\n      <th>4</th>\n      <td>05</td>\n      <td>Hautes-Alpes</td>\n      <td>Complet</td>\n      <td>113519</td>\n      <td>25357</td>\n      <td>22.34</td>\n      <td>88162</td>\n      <td>77.66</td>\n      <td>1395</td>\n      <td>1.23</td>\n      <td>...</td>\n      <td>Philippe</td>\n      <td>801</td>\n      <td>0.71</td>\n      <td>0.93</td>\n      <td>M</td>\n      <td>DUPONT-AIGNAN</td>\n      <td>Nicolas</td>\n      <td>2142</td>\n      <td>1.89</td>\n      <td>2.48</td>\n    </tr>\n    <tr>\n      <th>...</th>\n      <td>...</td>\n      <td>...</td>\n      <td>...</td>\n      <td>...</td>\n      <td>...</td>\n      <td>...</td>\n      <td>...</td>\n      <td>...</td>\n      <td>...</td>\n      <td>...</td>\n      <td>...</td>\n      <td>...</td>\n      <td>...</td>\n      <td>...</td>\n      <td>...</td>\n      <td>...</td>\n      <td>...</td>\n      <td>...</td>\n      <td>...</td>\n      <td>...</td>\n      <td>...</td>\n    </tr>\n    <tr>\n      <th>102</th>\n      <td>ZP</td>\n      <td>Polynésie française</td>\n      <td>Complet</td>\n      <td>205576</td>\n      <td>142121</td>\n      <td>69.13</td>\n      <td>63455</td>\n      <td>30.87</td>\n      <td>1490</td>\n      <td>0.72</td>\n      <td>...</td>\n      <td>Philippe</td>\n      <td>451</td>\n      <td>0.22</td>\n      <td>0.75</td>\n      <td>M</td>\n      <td>DUPONT-AIGNAN</td>\n      <td>Nicolas</td>\n      <td>1969</td>\n      <td>0.96</td>\n      <td>3.28</td>\n    </tr>\n    <tr>\n      <th>103</th>\n      <td>ZS</td>\n      <td>Saint-Pierre-et-Miquelon</td>\n      <td>Complet</td>\n      <td>5045</td>\n      <td>2272</td>\n      <td>45.03</td>\n      <td>2773</td>\n      <td>54.97</td>\n      <td>47</td>\n      <td>0.93</td>\n      <td>...</td>\n      <td>Philippe</td>\n      <td>50</td>\n      <td>0.99</td>\n      <td>1.85</td>\n      <td>M</td>\n      <td>DUPONT-AIGNAN</td>\n      <td>Nicolas</td>\n      <td>82</td>\n      <td>1.63</td>\n      <td>3.04</td>\n    </tr>\n    <tr>\n      <th>104</th>\n      <td>ZW</td>\n      <td>Wallis et Futuna</td>\n      <td>Complet</td>\n      <td>9528</td>\n      <td>4125</td>\n      <td>43.29</td>\n      <td>5403</td>\n      <td>56.71</td>\n      <td>27</td>\n      <td>0.28</td>\n      <td>...</td>\n      <td>Philippe</td>\n      <td>48</td>\n      <td>0.50</td>\n      <td>0.90</td>\n      <td>M</td>\n      <td>DUPONT-AIGNAN</td>\n      <td>Nicolas</td>\n      <td>244</td>\n      <td>2.56</td>\n      <td>4.55</td>\n    </tr>\n    <tr>\n      <th>105</th>\n      <td>ZX</td>\n      <td>Saint-Martin/Saint-Barthélemy</td>\n      <td>Complet</td>\n      <td>24414</td>\n      <td>15812</td>\n      <td>64.77</td>\n      <td>8602</td>\n      <td>35.23</td>\n      <td>150</td>\n      <td>0.61</td>\n      <td>...</td>\n      <td>Philippe</td>\n      <td>63</td>\n      <td>0.26</td>\n      <td>0.75</td>\n      <td>M</td>\n      <td>DUPONT-AIGNAN</td>\n      <td>Nicolas</td>\n      <td>339</td>\n      <td>1.39</td>\n      <td>4.05</td>\n    </tr>\n    <tr>\n      <th>106</th>\n      <td>ZZ</td>\n      <td>Français établis hors de France</td>\n      <td>Complet</td>\n      <td>1435746</td>\n      <td>931455</td>\n      <td>64.88</td>\n      <td>504291</td>\n      <td>35.12</td>\n      <td>3193</td>\n      <td>0.22</td>\n      <td>...</td>\n      <td>Philippe</td>\n      <td>3145</td>\n      <td>0.22</td>\n      <td>0.63</td>\n      <td>M</td>\n      <td>DUPONT-AIGNAN</td>\n      <td>Nicolas</td>\n      <td>7074</td>\n      <td>0.49</td>\n      <td>1.42</td>\n    </tr>\n  </tbody>\n</table>\n<p>107 rows × 89 columns</p>\n</div>"
     },
     "execution_count": 6,
     "metadata": {},
     "output_type": "execute_result"
    }
   ],
   "source": [
    "df = pd.read_excel(chemin_fichier)\n",
    "df.head(1000)"
   ]
  },
  {
   "cell_type": "code",
   "outputs": [],
   "source": [],
   "metadata": {
    "collapsed": false
   },
   "id": "9ca5b0675f69a5de"
  }
 ],
 "metadata": {
  "kernelspec": {
   "display_name": "Python 3 (ipykernel)",
   "language": "python",
   "name": "python3"
  },
  "language_info": {
   "codemirror_mode": {
    "name": "ipython",
    "version": 3
   },
   "file_extension": ".py",
   "mimetype": "text/x-python",
   "name": "python",
   "nbconvert_exporter": "python",
   "pygments_lexer": "ipython3",
   "version": "3.10.7"
  }
 },
 "nbformat": 4,
 "nbformat_minor": 5
}
