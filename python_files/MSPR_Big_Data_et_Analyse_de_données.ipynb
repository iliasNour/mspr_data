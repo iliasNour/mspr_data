{
 "cells": [
  {
   "cell_type": "code",
   "execution_count": 61,
   "id": "e35ac16c",
   "metadata": {
    "ExecuteTime": {
     "end_time": "2024-04-18T16:49:52.990581Z",
     "start_time": "2024-04-18T16:49:52.961579600Z"
    }
   },
   "outputs": [],
   "source": [
    "import pandas as pd\n",
    "import numpy as np"
   ]
  },
  {
   "cell_type": "code",
   "execution_count": 62,
   "id": "26a8685a",
   "metadata": {
    "ExecuteTime": {
     "end_time": "2024-04-18T16:52:48.562920700Z",
     "start_time": "2024-04-18T16:49:59.096252500Z"
    }
   },
   "outputs": [],
   "source": [
    "## Import Data\n",
    "\n",
    "## Election \n",
    "resultats_elections_france = r'C:\\Users\\Mehdi\\OneDrive\\Bureau\\mspr_data\\excel_files\\donnee_resultats_elections_france.xlsx'\n",
    "df_resultats_elections_france = pd.read_excel(resultats_elections_france)\n",
    "\n",
    "## région & département\n",
    "df_anciennes_nouvelles_regions = pd.read_csv(r'C:/Users/Mehdi/OneDrive/Bureau/mspr_data/excel_files/anciennes-nouvelles-regions.csv',sep=';' ,encoding='latin1')\n",
    "\n",
    "## socioprofessionnelle\n",
    "socioprofessionnelle = r'C:\\Users\\Mehdi\\OneDrive\\Bureau\\mspr_data\\excel_files\\donnée_socioprofessionnelle_2020.xlsx'\n",
    "df_socioprofessionnelle = pd.read_excel(socioprofessionnelle)\n",
    "\n",
    "## securité\n",
    "df_securite_geographique = pd.read_csv('C:/Users/Mehdi/OneDrive/Bureau/mspr_data/excel_files/donnee_securite_geographie.csv', sep = ';', encoding = 'latin1')\n",
    "\n",
    "## densité pop\n",
    "densite_population = r'C:\\Users\\Mehdi\\OneDrive\\Bureau\\mspr_data\\excel_files\\Donnée_densité_population.xlsx'\n",
    "df_densite_population = pd.read_excel(densite_population)\n",
    "\n",
    "## Chomage\n",
    "taux_chomage = r'C:\\Users\\Mehdi\\OneDrive\\Bureau\\mspr_data\\excel_files\\Donnee_taux_chomage.xlsx'\n",
    "df_taux_chomage = pd.read_excel(taux_chomage)\n",
    "\n",
    "## revenu \n",
    "revenu_fiscal_moyen = r'C:\\Users\\Mehdi\\OneDrive\\Bureau\\mspr_data\\excel_files\\Donnee_revenu_fiscal_moyen.xlsx'\n",
    "df_revenu_fiscal_moyen = pd.read_excel(revenu_fiscal_moyen)\n",
    "\n",
    "## age & sexe\n",
    "age_sexe = r'C:\\Users\\Mehdi\\OneDrive\\Bureau\\mspr_data\\excel_files\\donnee_age_sexe_2019.xlsx'\n",
    "df_age_sexe = pd.read_excel(age_sexe)\n",
    "\n",
    "## partie politique\n",
    "partie_politique = r'C:\\Users\\Mehdi\\OneDrive\\Bureau\\mspr_data\\excel_files\\partie_politique.xlsx'\n",
    "df_partie_politique = pd.read_excel(partie_politique)"
   ]
  },
  {
   "cell_type": "code",
   "outputs": [
    {
     "data": {
      "text/plain": "  Code du département Libellé du département  Code de la circonscription  \\\n0                  01                    Ain                           4   \n1                  01                    Ain                           5   \n2                  01                    Ain                           5   \n3                  01                    Ain                           5   \n4                  01                    Ain                           5   \n\n  Libellé de la circonscription  Code de la commune    Libellé de la commune  \\\n0          4ème circonscription                   1  L'Abergement-Clémenciat   \n1          5ème circonscription                   2    L'Abergement-de-Varey   \n2          5ème circonscription                   4        Ambérieu-en-Bugey   \n3          5ème circonscription                   4        Ambérieu-en-Bugey   \n4          5ème circonscription                   4        Ambérieu-en-Bugey   \n\n  Code du b.vote  Inscrits  Abstentions  % Abs/Ins  Votants  % Vot/Ins  \\\n0           0001       645          108      16.74      537      83.26   \n1           0001       213           38      17.84      175      82.16   \n2           0001      1129          266      23.56      863      76.44   \n3           0002      1128          265      23.49      863      76.51   \n4           0003      1213          246      20.28      967      79.72   \n\n   Blancs  % Blancs/Ins  % Blancs/Vot  Nuls  % Nuls/Ins  % Nuls/Vot  Exprimés  \\\n0      16          2.48          2.98     1        0.16        0.19       520   \n1       3          1.41          1.71     1        0.47        0.57       171   \n2      18          1.59          2.09     5        0.44        0.58       840   \n3      15          1.33          1.74     6        0.53        0.70       842   \n4      10          0.82          1.03     8        0.66        0.83       949   \n\n   % Exp/Ins  % Exp/Vot  N°Panneau_AN Sexe_AN   Nom_AN Prénom_AN  Voix_AN  \\\n0      80.62      96.83             1       F  ARTHAUD  Nathalie        3   \n1      80.28      97.71             1       F  ARTHAUD  Nathalie        2   \n2      74.40      97.33             1       F  ARTHAUD  Nathalie        4   \n3      74.65      97.57             1       F  ARTHAUD  Nathalie        6   \n4      78.24      98.14             1       F  ARTHAUD  Nathalie        8   \n\n   % Voix/Ins_AN  % Voix/Exp_AN  N°Panneau_RF Sexe_RF   Nom_RF Prénom_RF  \\\n0           0.47           0.58             2       M  ROUSSEL    Fabien   \n1           0.94           1.17             2       M  ROUSSEL    Fabien   \n2           0.35           0.48             2       M  ROUSSEL    Fabien   \n3           0.53           0.71             2       M  ROUSSEL    Fabien   \n4           0.66           0.84             2       M  ROUSSEL    Fabien   \n\n   Voix_RF  % Voix/Ins_RF  % Voix/Exp_RF  N°Panneau_EM Sexe_EM  Nom_EM  \\\n0        6           0.93           1.15             3       M  MACRON   \n1        7           3.29           4.09             3       M  MACRON   \n2       30           2.66           3.57             3       M  MACRON   \n3       13           1.15           1.54             3       M  MACRON   \n4       18           1.48           1.90             3       M  MACRON   \n\n  Prénom_EM  Voix_EM  % Voix/Ins_EM  % Voix/Exp_EM  N°Panneau_LJ Sexe_LJ  \\\n0  Emmanuel      150          23.26          28.85             4       M   \n1  Emmanuel       50          23.47          29.24             4       M   \n2  Emmanuel      159          14.08          18.93             4       M   \n3  Emmanuel      201          17.82          23.87             4       M   \n4  Emmanuel      229          18.88          24.13             4       M   \n\n     Nom_LJ Prénom_LJ  Voix_LJ  % Voix/Ins_LJ  % Voix/Exp_LJ  N°Panneau_LPM  \\\n0  LASSALLE      Jean       18           2.79           3.46              5   \n1  LASSALLE      Jean       10           4.69           5.85              5   \n2  LASSALLE      Jean       24           2.13           2.86              5   \n3  LASSALLE      Jean       19           1.68           2.26              5   \n4  LASSALLE      Jean       28           2.31           2.95              5   \n\n  Sexe_LPM Nom_LPM Prénom_LPM  Voix_LPM  % Voix/Ins_LPM  % Voix/Exp_LPM  \\\n0        F  LE PEN     Marine       149           23.10           28.65   \n1        F  LE PEN     Marine        23           10.80           13.45   \n2        F  LE PEN     Marine       237           20.99           28.21   \n3        F  LE PEN     Marine       210           18.62           24.94   \n4        F  LE PEN     Marine       227           18.71           23.92   \n\n   N°Panneau_ZE Sexe_ZE   Nom_ZE Prénom_ZE  Voix_ZE  % Voix/Ins_ZE  \\\n0             6       M  ZEMMOUR      Éric       43           6.67   \n1             6       M  ZEMMOUR      Éric       14           6.57   \n2             6       M  ZEMMOUR      Éric       69           6.11   \n3             6       M  ZEMMOUR      Éric       68           6.03   \n4             6       M  ZEMMOUR      Éric       74           6.10   \n\n   % Voix/Exp_ZE  N°Panneau_JLM Sexe_JLM    Nom_JLM Prénom_JLM  Voix_JLM  \\\n0           8.27              7        M  MÉLENCHON   Jean-Luc        66   \n1           8.19              7        M  MÉLENCHON   Jean-Luc        41   \n2           8.21              7        M  MÉLENCHON   Jean-Luc       216   \n3           8.08              7        M  MÉLENCHON   Jean-Luc       194   \n4           7.80              7        M  MÉLENCHON   Jean-Luc       227   \n\n   % Voix/Ins_JLM  % Voix/Exp_JLM  N°Panneau_HA Sexe_HA   Nom_HA Prénom_HA  \\\n0           10.23           12.69             8       F  HIDALGO      Anne   \n1           19.25           23.98             8       F  HIDALGO      Anne   \n2           19.13           25.71             8       F  HIDALGO      Anne   \n3           17.20           23.04             8       F  HIDALGO      Anne   \n4           18.71           23.92             8       F  HIDALGO      Anne   \n\n   Voix_HA  % Voix/Ins_HA  % Voix/Exp_HA  N°Panneau_JY Sexe_JY Nom_JY  \\\n0        5           0.78           0.96             9       M  JADOT   \n1        3           1.41           1.75             9       M  JADOT   \n2       15           1.33           1.79             9       M  JADOT   \n3       19           1.68           2.26             9       M  JADOT   \n4       16           1.32           1.69             9       M  JADOT   \n\n  Prénom_JY  Voix_JY  % Voix/Ins_JY  % Voix/Exp_JY  N°Panneau_VP Sexe_VP  \\\n0   Yannick       30           4.65           5.77            10       F   \n1   Yannick       10           4.69           5.85            10       F   \n2   Yannick       25           2.21           2.98            10       F   \n3   Yannick       46           4.08           5.46            10       F   \n4   Yannick       65           5.36           6.85            10       F   \n\n     Nom_VP Prénom_VP  Voix_VP  % Voix/Ins_VP  % Voix/Exp_VP  N°Panneau_PP  \\\n0  PÉCRESSE   Valérie       26           4.03           5.00            11   \n1  PÉCRESSE   Valérie        8           3.76           4.68            11   \n2  PÉCRESSE   Valérie       40           3.54           4.76            11   \n3  PÉCRESSE   Valérie       42           3.72           4.99            11   \n4  PÉCRESSE   Valérie       35           2.89           3.69            11   \n\n  Sexe_PP  Nom_PP Prénom_PP  Voix_PP  % Voix/Ins_PP  % Voix/Exp_PP  \\\n0       M  POUTOU  Philippe        3           0.47           0.58   \n1       M  POUTOU  Philippe        3           1.41           1.75   \n2       M  POUTOU  Philippe        8           0.71           0.95   \n3       M  POUTOU  Philippe        4           0.35           0.48   \n4       M  POUTOU  Philippe        3           0.25           0.32   \n\n   N°Panneau_DN Sexe_DN         Nom_DN Prénom_DN  Voix_DN  % Voix/Ins_DN  \\\n0            12       M  DUPONT-AIGNAN   Nicolas       21           3.26   \n1            12       M  DUPONT-AIGNAN   Nicolas        0           0.00   \n2            12       M  DUPONT-AIGNAN   Nicolas       13           1.15   \n3            12       M  DUPONT-AIGNAN   Nicolas       20           1.77   \n4            12       M  DUPONT-AIGNAN   Nicolas       19           1.57   \n\n   % Voix/Exp_DN  \n0           4.04  \n1           0.00  \n2           1.55  \n3           2.38  \n4           2.00  ",
      "text/html": "<div>\n<style scoped>\n    .dataframe tbody tr th:only-of-type {\n        vertical-align: middle;\n    }\n\n    .dataframe tbody tr th {\n        vertical-align: top;\n    }\n\n    .dataframe thead th {\n        text-align: right;\n    }\n</style>\n<table border=\"1\" class=\"dataframe\">\n  <thead>\n    <tr style=\"text-align: right;\">\n      <th></th>\n      <th>Code du département</th>\n      <th>Libellé du département</th>\n      <th>Code de la circonscription</th>\n      <th>Libellé de la circonscription</th>\n      <th>Code de la commune</th>\n      <th>Libellé de la commune</th>\n      <th>Code du b.vote</th>\n      <th>Inscrits</th>\n      <th>Abstentions</th>\n      <th>% Abs/Ins</th>\n      <th>Votants</th>\n      <th>% Vot/Ins</th>\n      <th>Blancs</th>\n      <th>% Blancs/Ins</th>\n      <th>% Blancs/Vot</th>\n      <th>Nuls</th>\n      <th>% Nuls/Ins</th>\n      <th>% Nuls/Vot</th>\n      <th>Exprimés</th>\n      <th>% Exp/Ins</th>\n      <th>% Exp/Vot</th>\n      <th>N°Panneau_AN</th>\n      <th>Sexe_AN</th>\n      <th>Nom_AN</th>\n      <th>Prénom_AN</th>\n      <th>Voix_AN</th>\n      <th>% Voix/Ins_AN</th>\n      <th>% Voix/Exp_AN</th>\n      <th>N°Panneau_RF</th>\n      <th>Sexe_RF</th>\n      <th>Nom_RF</th>\n      <th>Prénom_RF</th>\n      <th>Voix_RF</th>\n      <th>% Voix/Ins_RF</th>\n      <th>% Voix/Exp_RF</th>\n      <th>N°Panneau_EM</th>\n      <th>Sexe_EM</th>\n      <th>Nom_EM</th>\n      <th>Prénom_EM</th>\n      <th>Voix_EM</th>\n      <th>% Voix/Ins_EM</th>\n      <th>% Voix/Exp_EM</th>\n      <th>N°Panneau_LJ</th>\n      <th>Sexe_LJ</th>\n      <th>Nom_LJ</th>\n      <th>Prénom_LJ</th>\n      <th>Voix_LJ</th>\n      <th>% Voix/Ins_LJ</th>\n      <th>% Voix/Exp_LJ</th>\n      <th>N°Panneau_LPM</th>\n      <th>Sexe_LPM</th>\n      <th>Nom_LPM</th>\n      <th>Prénom_LPM</th>\n      <th>Voix_LPM</th>\n      <th>% Voix/Ins_LPM</th>\n      <th>% Voix/Exp_LPM</th>\n      <th>N°Panneau_ZE</th>\n      <th>Sexe_ZE</th>\n      <th>Nom_ZE</th>\n      <th>Prénom_ZE</th>\n      <th>Voix_ZE</th>\n      <th>% Voix/Ins_ZE</th>\n      <th>% Voix/Exp_ZE</th>\n      <th>N°Panneau_JLM</th>\n      <th>Sexe_JLM</th>\n      <th>Nom_JLM</th>\n      <th>Prénom_JLM</th>\n      <th>Voix_JLM</th>\n      <th>% Voix/Ins_JLM</th>\n      <th>% Voix/Exp_JLM</th>\n      <th>N°Panneau_HA</th>\n      <th>Sexe_HA</th>\n      <th>Nom_HA</th>\n      <th>Prénom_HA</th>\n      <th>Voix_HA</th>\n      <th>% Voix/Ins_HA</th>\n      <th>% Voix/Exp_HA</th>\n      <th>N°Panneau_JY</th>\n      <th>Sexe_JY</th>\n      <th>Nom_JY</th>\n      <th>Prénom_JY</th>\n      <th>Voix_JY</th>\n      <th>% Voix/Ins_JY</th>\n      <th>% Voix/Exp_JY</th>\n      <th>N°Panneau_VP</th>\n      <th>Sexe_VP</th>\n      <th>Nom_VP</th>\n      <th>Prénom_VP</th>\n      <th>Voix_VP</th>\n      <th>% Voix/Ins_VP</th>\n      <th>% Voix/Exp_VP</th>\n      <th>N°Panneau_PP</th>\n      <th>Sexe_PP</th>\n      <th>Nom_PP</th>\n      <th>Prénom_PP</th>\n      <th>Voix_PP</th>\n      <th>% Voix/Ins_PP</th>\n      <th>% Voix/Exp_PP</th>\n      <th>N°Panneau_DN</th>\n      <th>Sexe_DN</th>\n      <th>Nom_DN</th>\n      <th>Prénom_DN</th>\n      <th>Voix_DN</th>\n      <th>% Voix/Ins_DN</th>\n      <th>% Voix/Exp_DN</th>\n    </tr>\n  </thead>\n  <tbody>\n    <tr>\n      <th>0</th>\n      <td>01</td>\n      <td>Ain</td>\n      <td>4</td>\n      <td>4ème circonscription</td>\n      <td>1</td>\n      <td>L'Abergement-Clémenciat</td>\n      <td>0001</td>\n      <td>645</td>\n      <td>108</td>\n      <td>16.74</td>\n      <td>537</td>\n      <td>83.26</td>\n      <td>16</td>\n      <td>2.48</td>\n      <td>2.98</td>\n      <td>1</td>\n      <td>0.16</td>\n      <td>0.19</td>\n      <td>520</td>\n      <td>80.62</td>\n      <td>96.83</td>\n      <td>1</td>\n      <td>F</td>\n      <td>ARTHAUD</td>\n      <td>Nathalie</td>\n      <td>3</td>\n      <td>0.47</td>\n      <td>0.58</td>\n      <td>2</td>\n      <td>M</td>\n      <td>ROUSSEL</td>\n      <td>Fabien</td>\n      <td>6</td>\n      <td>0.93</td>\n      <td>1.15</td>\n      <td>3</td>\n      <td>M</td>\n      <td>MACRON</td>\n      <td>Emmanuel</td>\n      <td>150</td>\n      <td>23.26</td>\n      <td>28.85</td>\n      <td>4</td>\n      <td>M</td>\n      <td>LASSALLE</td>\n      <td>Jean</td>\n      <td>18</td>\n      <td>2.79</td>\n      <td>3.46</td>\n      <td>5</td>\n      <td>F</td>\n      <td>LE PEN</td>\n      <td>Marine</td>\n      <td>149</td>\n      <td>23.10</td>\n      <td>28.65</td>\n      <td>6</td>\n      <td>M</td>\n      <td>ZEMMOUR</td>\n      <td>Éric</td>\n      <td>43</td>\n      <td>6.67</td>\n      <td>8.27</td>\n      <td>7</td>\n      <td>M</td>\n      <td>MÉLENCHON</td>\n      <td>Jean-Luc</td>\n      <td>66</td>\n      <td>10.23</td>\n      <td>12.69</td>\n      <td>8</td>\n      <td>F</td>\n      <td>HIDALGO</td>\n      <td>Anne</td>\n      <td>5</td>\n      <td>0.78</td>\n      <td>0.96</td>\n      <td>9</td>\n      <td>M</td>\n      <td>JADOT</td>\n      <td>Yannick</td>\n      <td>30</td>\n      <td>4.65</td>\n      <td>5.77</td>\n      <td>10</td>\n      <td>F</td>\n      <td>PÉCRESSE</td>\n      <td>Valérie</td>\n      <td>26</td>\n      <td>4.03</td>\n      <td>5.00</td>\n      <td>11</td>\n      <td>M</td>\n      <td>POUTOU</td>\n      <td>Philippe</td>\n      <td>3</td>\n      <td>0.47</td>\n      <td>0.58</td>\n      <td>12</td>\n      <td>M</td>\n      <td>DUPONT-AIGNAN</td>\n      <td>Nicolas</td>\n      <td>21</td>\n      <td>3.26</td>\n      <td>4.04</td>\n    </tr>\n    <tr>\n      <th>1</th>\n      <td>01</td>\n      <td>Ain</td>\n      <td>5</td>\n      <td>5ème circonscription</td>\n      <td>2</td>\n      <td>L'Abergement-de-Varey</td>\n      <td>0001</td>\n      <td>213</td>\n      <td>38</td>\n      <td>17.84</td>\n      <td>175</td>\n      <td>82.16</td>\n      <td>3</td>\n      <td>1.41</td>\n      <td>1.71</td>\n      <td>1</td>\n      <td>0.47</td>\n      <td>0.57</td>\n      <td>171</td>\n      <td>80.28</td>\n      <td>97.71</td>\n      <td>1</td>\n      <td>F</td>\n      <td>ARTHAUD</td>\n      <td>Nathalie</td>\n      <td>2</td>\n      <td>0.94</td>\n      <td>1.17</td>\n      <td>2</td>\n      <td>M</td>\n      <td>ROUSSEL</td>\n      <td>Fabien</td>\n      <td>7</td>\n      <td>3.29</td>\n      <td>4.09</td>\n      <td>3</td>\n      <td>M</td>\n      <td>MACRON</td>\n      <td>Emmanuel</td>\n      <td>50</td>\n      <td>23.47</td>\n      <td>29.24</td>\n      <td>4</td>\n      <td>M</td>\n      <td>LASSALLE</td>\n      <td>Jean</td>\n      <td>10</td>\n      <td>4.69</td>\n      <td>5.85</td>\n      <td>5</td>\n      <td>F</td>\n      <td>LE PEN</td>\n      <td>Marine</td>\n      <td>23</td>\n      <td>10.80</td>\n      <td>13.45</td>\n      <td>6</td>\n      <td>M</td>\n      <td>ZEMMOUR</td>\n      <td>Éric</td>\n      <td>14</td>\n      <td>6.57</td>\n      <td>8.19</td>\n      <td>7</td>\n      <td>M</td>\n      <td>MÉLENCHON</td>\n      <td>Jean-Luc</td>\n      <td>41</td>\n      <td>19.25</td>\n      <td>23.98</td>\n      <td>8</td>\n      <td>F</td>\n      <td>HIDALGO</td>\n      <td>Anne</td>\n      <td>3</td>\n      <td>1.41</td>\n      <td>1.75</td>\n      <td>9</td>\n      <td>M</td>\n      <td>JADOT</td>\n      <td>Yannick</td>\n      <td>10</td>\n      <td>4.69</td>\n      <td>5.85</td>\n      <td>10</td>\n      <td>F</td>\n      <td>PÉCRESSE</td>\n      <td>Valérie</td>\n      <td>8</td>\n      <td>3.76</td>\n      <td>4.68</td>\n      <td>11</td>\n      <td>M</td>\n      <td>POUTOU</td>\n      <td>Philippe</td>\n      <td>3</td>\n      <td>1.41</td>\n      <td>1.75</td>\n      <td>12</td>\n      <td>M</td>\n      <td>DUPONT-AIGNAN</td>\n      <td>Nicolas</td>\n      <td>0</td>\n      <td>0.00</td>\n      <td>0.00</td>\n    </tr>\n    <tr>\n      <th>2</th>\n      <td>01</td>\n      <td>Ain</td>\n      <td>5</td>\n      <td>5ème circonscription</td>\n      <td>4</td>\n      <td>Ambérieu-en-Bugey</td>\n      <td>0001</td>\n      <td>1129</td>\n      <td>266</td>\n      <td>23.56</td>\n      <td>863</td>\n      <td>76.44</td>\n      <td>18</td>\n      <td>1.59</td>\n      <td>2.09</td>\n      <td>5</td>\n      <td>0.44</td>\n      <td>0.58</td>\n      <td>840</td>\n      <td>74.40</td>\n      <td>97.33</td>\n      <td>1</td>\n      <td>F</td>\n      <td>ARTHAUD</td>\n      <td>Nathalie</td>\n      <td>4</td>\n      <td>0.35</td>\n      <td>0.48</td>\n      <td>2</td>\n      <td>M</td>\n      <td>ROUSSEL</td>\n      <td>Fabien</td>\n      <td>30</td>\n      <td>2.66</td>\n      <td>3.57</td>\n      <td>3</td>\n      <td>M</td>\n      <td>MACRON</td>\n      <td>Emmanuel</td>\n      <td>159</td>\n      <td>14.08</td>\n      <td>18.93</td>\n      <td>4</td>\n      <td>M</td>\n      <td>LASSALLE</td>\n      <td>Jean</td>\n      <td>24</td>\n      <td>2.13</td>\n      <td>2.86</td>\n      <td>5</td>\n      <td>F</td>\n      <td>LE PEN</td>\n      <td>Marine</td>\n      <td>237</td>\n      <td>20.99</td>\n      <td>28.21</td>\n      <td>6</td>\n      <td>M</td>\n      <td>ZEMMOUR</td>\n      <td>Éric</td>\n      <td>69</td>\n      <td>6.11</td>\n      <td>8.21</td>\n      <td>7</td>\n      <td>M</td>\n      <td>MÉLENCHON</td>\n      <td>Jean-Luc</td>\n      <td>216</td>\n      <td>19.13</td>\n      <td>25.71</td>\n      <td>8</td>\n      <td>F</td>\n      <td>HIDALGO</td>\n      <td>Anne</td>\n      <td>15</td>\n      <td>1.33</td>\n      <td>1.79</td>\n      <td>9</td>\n      <td>M</td>\n      <td>JADOT</td>\n      <td>Yannick</td>\n      <td>25</td>\n      <td>2.21</td>\n      <td>2.98</td>\n      <td>10</td>\n      <td>F</td>\n      <td>PÉCRESSE</td>\n      <td>Valérie</td>\n      <td>40</td>\n      <td>3.54</td>\n      <td>4.76</td>\n      <td>11</td>\n      <td>M</td>\n      <td>POUTOU</td>\n      <td>Philippe</td>\n      <td>8</td>\n      <td>0.71</td>\n      <td>0.95</td>\n      <td>12</td>\n      <td>M</td>\n      <td>DUPONT-AIGNAN</td>\n      <td>Nicolas</td>\n      <td>13</td>\n      <td>1.15</td>\n      <td>1.55</td>\n    </tr>\n    <tr>\n      <th>3</th>\n      <td>01</td>\n      <td>Ain</td>\n      <td>5</td>\n      <td>5ème circonscription</td>\n      <td>4</td>\n      <td>Ambérieu-en-Bugey</td>\n      <td>0002</td>\n      <td>1128</td>\n      <td>265</td>\n      <td>23.49</td>\n      <td>863</td>\n      <td>76.51</td>\n      <td>15</td>\n      <td>1.33</td>\n      <td>1.74</td>\n      <td>6</td>\n      <td>0.53</td>\n      <td>0.70</td>\n      <td>842</td>\n      <td>74.65</td>\n      <td>97.57</td>\n      <td>1</td>\n      <td>F</td>\n      <td>ARTHAUD</td>\n      <td>Nathalie</td>\n      <td>6</td>\n      <td>0.53</td>\n      <td>0.71</td>\n      <td>2</td>\n      <td>M</td>\n      <td>ROUSSEL</td>\n      <td>Fabien</td>\n      <td>13</td>\n      <td>1.15</td>\n      <td>1.54</td>\n      <td>3</td>\n      <td>M</td>\n      <td>MACRON</td>\n      <td>Emmanuel</td>\n      <td>201</td>\n      <td>17.82</td>\n      <td>23.87</td>\n      <td>4</td>\n      <td>M</td>\n      <td>LASSALLE</td>\n      <td>Jean</td>\n      <td>19</td>\n      <td>1.68</td>\n      <td>2.26</td>\n      <td>5</td>\n      <td>F</td>\n      <td>LE PEN</td>\n      <td>Marine</td>\n      <td>210</td>\n      <td>18.62</td>\n      <td>24.94</td>\n      <td>6</td>\n      <td>M</td>\n      <td>ZEMMOUR</td>\n      <td>Éric</td>\n      <td>68</td>\n      <td>6.03</td>\n      <td>8.08</td>\n      <td>7</td>\n      <td>M</td>\n      <td>MÉLENCHON</td>\n      <td>Jean-Luc</td>\n      <td>194</td>\n      <td>17.20</td>\n      <td>23.04</td>\n      <td>8</td>\n      <td>F</td>\n      <td>HIDALGO</td>\n      <td>Anne</td>\n      <td>19</td>\n      <td>1.68</td>\n      <td>2.26</td>\n      <td>9</td>\n      <td>M</td>\n      <td>JADOT</td>\n      <td>Yannick</td>\n      <td>46</td>\n      <td>4.08</td>\n      <td>5.46</td>\n      <td>10</td>\n      <td>F</td>\n      <td>PÉCRESSE</td>\n      <td>Valérie</td>\n      <td>42</td>\n      <td>3.72</td>\n      <td>4.99</td>\n      <td>11</td>\n      <td>M</td>\n      <td>POUTOU</td>\n      <td>Philippe</td>\n      <td>4</td>\n      <td>0.35</td>\n      <td>0.48</td>\n      <td>12</td>\n      <td>M</td>\n      <td>DUPONT-AIGNAN</td>\n      <td>Nicolas</td>\n      <td>20</td>\n      <td>1.77</td>\n      <td>2.38</td>\n    </tr>\n    <tr>\n      <th>4</th>\n      <td>01</td>\n      <td>Ain</td>\n      <td>5</td>\n      <td>5ème circonscription</td>\n      <td>4</td>\n      <td>Ambérieu-en-Bugey</td>\n      <td>0003</td>\n      <td>1213</td>\n      <td>246</td>\n      <td>20.28</td>\n      <td>967</td>\n      <td>79.72</td>\n      <td>10</td>\n      <td>0.82</td>\n      <td>1.03</td>\n      <td>8</td>\n      <td>0.66</td>\n      <td>0.83</td>\n      <td>949</td>\n      <td>78.24</td>\n      <td>98.14</td>\n      <td>1</td>\n      <td>F</td>\n      <td>ARTHAUD</td>\n      <td>Nathalie</td>\n      <td>8</td>\n      <td>0.66</td>\n      <td>0.84</td>\n      <td>2</td>\n      <td>M</td>\n      <td>ROUSSEL</td>\n      <td>Fabien</td>\n      <td>18</td>\n      <td>1.48</td>\n      <td>1.90</td>\n      <td>3</td>\n      <td>M</td>\n      <td>MACRON</td>\n      <td>Emmanuel</td>\n      <td>229</td>\n      <td>18.88</td>\n      <td>24.13</td>\n      <td>4</td>\n      <td>M</td>\n      <td>LASSALLE</td>\n      <td>Jean</td>\n      <td>28</td>\n      <td>2.31</td>\n      <td>2.95</td>\n      <td>5</td>\n      <td>F</td>\n      <td>LE PEN</td>\n      <td>Marine</td>\n      <td>227</td>\n      <td>18.71</td>\n      <td>23.92</td>\n      <td>6</td>\n      <td>M</td>\n      <td>ZEMMOUR</td>\n      <td>Éric</td>\n      <td>74</td>\n      <td>6.10</td>\n      <td>7.80</td>\n      <td>7</td>\n      <td>M</td>\n      <td>MÉLENCHON</td>\n      <td>Jean-Luc</td>\n      <td>227</td>\n      <td>18.71</td>\n      <td>23.92</td>\n      <td>8</td>\n      <td>F</td>\n      <td>HIDALGO</td>\n      <td>Anne</td>\n      <td>16</td>\n      <td>1.32</td>\n      <td>1.69</td>\n      <td>9</td>\n      <td>M</td>\n      <td>JADOT</td>\n      <td>Yannick</td>\n      <td>65</td>\n      <td>5.36</td>\n      <td>6.85</td>\n      <td>10</td>\n      <td>F</td>\n      <td>PÉCRESSE</td>\n      <td>Valérie</td>\n      <td>35</td>\n      <td>2.89</td>\n      <td>3.69</td>\n      <td>11</td>\n      <td>M</td>\n      <td>POUTOU</td>\n      <td>Philippe</td>\n      <td>3</td>\n      <td>0.25</td>\n      <td>0.32</td>\n      <td>12</td>\n      <td>M</td>\n      <td>DUPONT-AIGNAN</td>\n      <td>Nicolas</td>\n      <td>19</td>\n      <td>1.57</td>\n      <td>2.00</td>\n    </tr>\n  </tbody>\n</table>\n</div>"
     },
     "execution_count": 63,
     "metadata": {},
     "output_type": "execute_result"
    }
   ],
   "source": [
    "df_resultats_elections_france.head()"
   ],
   "metadata": {
    "collapsed": false,
    "ExecuteTime": {
     "end_time": "2024-04-18T16:53:54.092606100Z",
     "start_time": "2024-04-18T16:53:53.895606600Z"
    }
   },
   "id": "49b759532e9b3a1d",
   "execution_count": 63
  },
  {
   "cell_type": "code",
   "outputs": [],
   "source": [
    "## nettoyage \n",
    "## Election \n",
    "## rename columns \n",
    "df_resultats_elections_france.columns = ['Code_du_département','Libellé_du_département','Code_de_la_circonscription','Libellé_de_la_circonscription','Code_de_la_commune','Libellé_de_la_commune','Code_du_b.vote','Inscrits','Abstentions','Pr_Abs_Ins','Votants','Pr_Vot_Ins','Blancs','Pr_Blancs_Ins','Pr_Blancs_Vot',\n",
    "'Nuls','Pr_Nuls_Ins','Pr_Nuls_Vot','Exprimés','Pr_Exp_Ins','Pr_Exp_Vot','N°Panneau_Arthaud_Nathalie','Sexe_Arthaud_Nathalie','Nom_Arthaud_Nathalie','Prénom_Arthaud_Nathalie','Voix_Arthaud_Nathalie','Pr_Voix_Ins_Arthaud_Nathalie',\n",
    "'Pr_Voix_Exp_Arthaud_Nathalie','N°Panneau_Roussel_Fabien','Sexe_Roussel_Fabien','Nom_Roussel_Fabien','Prénom_Roussel_Fabien','Voix_Roussel_Fabien','Pr_Voix_Ins_Roussel_Fabien','Pr_Voix_Exp_Roussel_Fabien','N°Panneau_Emmanuel_Macron','Sexe_Emmanuel_Macron','Nom_Emmanuel_Macron',\n",
    "'Prénom_Emmanuel_Macron','Voix_Emmanuel_Macron','Pr_Voix_Ins_Emmanuel_Macron','Pr_Voix_Exp_Emmanuel_Macron','N°Panneau_Lassalle_Jean','Sexe_Lassalle_Jean','Nom_Lassalle_Jean','Prénom_Lassalle_Jean','Voix_Lassalle_Jean','Pr_Voix_Ins_Lassalle_Jean','Pr_Voix_Exp_Lassalle_Jean',\n",
    "'N°Panneau_Le_Pen_Marine','Sexe_Le_Pen_Marine','Nom_Le_Pen_Marine','Prénom_Le_Pen_Marine','Voix_Le_Pen_Marine','Pr_Voix_Ins_Le_Pen_Marine','Pr_Voix_Exp_Le_Pen_Marine','N°Panneau_Zemmour_Eric','Sexe_Zemmour_Eric','Nom_Zemmour_Eric','Prénom_Zemmour_Eric',\n",
    "'Voix_Zemmour_Eric','Pr_Voix_Ins_Zemmour_Eric','Pr_Voix_Exp_Zemmour_Eric','N°Panneau_Jean_Luc_Mélenchon','Sexe_Jean_Luc_Mélenchon','Nom_Jean_Luc_Mélenchon','Prénom_Jean_Luc_Mélenchon','Voix_Jean_Luc_Mélenchon','Pr_Voix_Ins_Jean_Luc_Mélenchon','Pr_Voix_Exp_Jean_Luc_Mélenchon',\n",
    "'N°Panneau_Hidalgo_Anne','Sexe_Hidalgo_Anne','Nom_Hidalgo_Anne','Prénom_Hidalgo_Anne','Voix_Hidalgo_Anne','Pr_Voix_Ins_Hidalgo_Anne','Pr_Voix_Exp_Hidalgo_Anne','N°Panneau_Jadot_Yannick','Sexe_Jadot_Yannick','Nom_Jadot_Yannick','Prénom_Jadot_Yannick',\n",
    "'Voix_Jadot_Yannick','Pr_Voix_Ins_Jadot_Yannick','Pr_Voix_Exp_Jadot_Yannick','N°Panneau_Valerie_Pecresse','Sexe_Valerie_Pecresse','Nom_Valerie_Pecresse','Prénom_Valerie_Pecresse','Voix_Valerie_Pecresse','Pr_Voix_Ins_Valerie_Pecresse','Pr_Voix_Exp_Valerie_Pecresse','N°Panneau_Philippe_Poutou',\n",
    "'Sexe_Philippe_Poutou','Nom_Philippe_Poutou','Prénom_Philippe_Poutou','Voix_Philippe_Poutou','Pr_Voix_Ins_Philippe_Poutou','Pr_Voix_Exp_Philippe_Poutou','N°Panneau_Dupont_Aignan_Nicolas','Sexe_Dupont_Aignan_Nicolas','Nom_Dupont_Aignan_Nicolas','Prénom_Dupont_Aignan_Nicolas','Voix_Dupont_Aignan_Nicolas','Pr_Voix_Ins_Dupont_Aignan_Nicolas',\n",
    "'Pr_Voix_Exp_Dupont_Aignan_Nicolas']\n",
    "## select columns \n",
    "df_resultats_elections_france_global= df_resultats_elections_france[['Code_du_département',\n",
    "       'Inscrits', 'Abstentions', 'Pr_Abs_Ins' , 'Votants','Pr_Vot_Ins','Blancs','Pr_Blancs_Ins','Pr_Blancs_Vot'\n",
    ",'Nuls','Pr_Nuls_Ins','Pr_Nuls_Vot','Exprimés','Pr_Exp_Ins','Pr_Exp_Vot' , \n",
    "'Pr_Voix_Ins_Arthaud_Nathalie','Pr_Voix_Ins_Roussel_Fabien','Pr_Voix_Ins_Emmanuel_Macron', 'Pr_Voix_Ins_Lassalle_Jean', 'Pr_Voix_Ins_Le_Pen_Marine','Pr_Voix_Ins_Zemmour_Eric','Pr_Voix_Ins_Jean_Luc_Mélenchon','Pr_Voix_Ins_Hidalgo_Anne',\n",
    "'Pr_Voix_Ins_Jadot_Yannick' , 'Pr_Voix_Ins_Valerie_Pecresse' , 'Pr_Voix_Ins_Philippe_Poutou' , 'Pr_Voix_Ins_Dupont_Aignan_Nicolas']]"
   ],
   "metadata": {
    "collapsed": false,
    "ExecuteTime": {
     "end_time": "2024-04-18T17:23:29.053006400Z",
     "start_time": "2024-04-18T17:23:29.014012700Z"
    }
   },
   "id": "ce875c6482e05ea7",
   "execution_count": 76
  },
  {
   "cell_type": "code",
   "execution_count": 77,
   "id": "10939a899e011556",
   "metadata": {
    "ExecuteTime": {
     "end_time": "2024-04-18T17:23:32.331861Z",
     "start_time": "2024-04-18T17:23:32.269856300Z"
    }
   },
   "outputs": [],
   "source": [
    "\n",
    "# Aggrégation de différentes variables avec différentes fonctions\n",
    "df_resultats_elections_france_global_agg = df_resultats_elections_france_global.groupby('Code_du_département').agg({\n",
    "    'Inscrits': 'sum', \n",
    "    'Abstentions' : 'sum', \n",
    "    'Pr_Abs_Ins' : 'mean' , \n",
    "    'Votants': 'sum',\n",
    "    'Pr_Vot_Ins' : 'mean',\n",
    "    'Blancs': 'sum',\n",
    "    'Pr_Blancs_Ins' : 'mean',\n",
    "    'Pr_Blancs_Vot': 'mean',\n",
    "    'Nuls': 'sum',\n",
    "    'Pr_Nuls_Ins': 'mean',\n",
    "    'Pr_Nuls_Vot': 'mean',\n",
    "    'Exprimés': 'sum',\n",
    "    'Pr_Exp_Ins': 'mean',\n",
    "    'Pr_Exp_Vot': 'mean' , \n",
    "    'Pr_Voix_Ins_Arthaud_Nathalie': 'mean',\n",
    "    'Pr_Voix_Ins_Roussel_Fabien': 'mean',\n",
    "    'Pr_Voix_Ins_Emmanuel_Macron': 'mean', \n",
    "    'Pr_Voix_Ins_Lassalle_Jean': 'mean', \n",
    "    'Pr_Voix_Ins_Le_Pen_Marine': 'mean',\n",
    "    'Pr_Voix_Ins_Zemmour_Eric': 'mean',\n",
    "    'Pr_Voix_Ins_Jean_Luc_Mélenchon': 'mean',\n",
    "    'Pr_Voix_Ins_Hidalgo_Anne': 'mean',\n",
    "    'Pr_Voix_Ins_Jadot_Yannick': 'mean' , \n",
    "    'Pr_Voix_Ins_Valerie_Pecresse': 'mean' , \n",
    "    'Pr_Voix_Ins_Philippe_Poutou': 'mean' , \n",
    "    'Pr_Voix_Ins_Dupont_Aignan_Nicolas': 'mean'\n",
    "})\n",
    "\n",
    "df_resultats_elections_france_global_agg = df_resultats_elections_france_global_agg.reset_index(drop=False)"
   ]
  },
  {
   "cell_type": "code",
   "outputs": [
    {
     "data": {
      "text/plain": "   Code_du_département  Inscrits  Abstentions  Pr_Abs_Ins  Votants  \\\n0                   01    438109        97541   21.171438   340568   \n1                   02    373544       101089   23.640400   272455   \n2                   03    249991        58497   22.154801   191494   \n3                   04    128075        29290   21.602966    98785   \n4                   05    113519        25357   20.154493    88162   \n..                 ...       ...          ...         ...      ...   \n95                  95    733529       192853   25.622232   540676   \n96                  ZA    316023       174592   55.469192   141431   \n97                  ZB    304594       174588   57.606156   130006   \n98                  ZC    102993        65754   64.384403    37239   \n99                  ZD    675539       313159   46.502989   362380   \n\n    Pr_Vot_Ins  Blancs  Pr_Blancs_Ins  Pr_Blancs_Vot  Nuls  Pr_Nuls_Ins  \\\n0    78.828596    5641       1.290394       1.631267  1903     0.465668   \n1    76.359651    3767       1.087936       1.414569  2828     0.747125   \n2    77.845265    3749       1.555509       1.981327  1790     0.759027   \n3    78.016844    1478       1.226996       1.574411   624     0.437871   \n4    79.845604    1395       1.298841       1.606184   532     0.490290   \n..         ...     ...            ...            ...   ...          ...   \n95   74.254476    8027       1.108274       1.485968  3064     0.425857   \n96   44.530855    2719       0.855439       1.935392  3627     1.157245   \n97   42.393874    4001       1.300270       3.138709  3056     1.017117   \n98   35.615672     825       0.786269       2.147313   553     0.526194   \n99   53.497022    7361       1.089860       2.043624  8253     1.225968   \n\n    Pr_Nuls_Vot  Exprimés  Pr_Exp_Ins  Pr_Exp_Vot  \\\n0      0.588493    333024   77.072192   97.780274   \n1      0.972669    265860   74.524774   97.510021   \n2      0.972898    185955   75.531062   97.045907   \n3      0.558403     96683   76.352091   97.487072   \n4      0.612029     86235   78.056184   97.298454   \n..          ...       ...         ...         ...   \n95     0.579112    529585   72.720629   97.811677   \n96     2.641449    135085   42.518361   95.185344   \n97     2.455586    122949   40.076096   94.105526   \n98     1.479478     35861   34.303806   95.627313   \n99     2.339301    346766   51.181086   95.617032   \n\n    Pr_Voix_Ins_Arthaud_Nathalie  Pr_Voix_Ins_Roussel_Fabien  \\\n0                       0.392997                    1.449709   \n1                       0.552505                    1.539969   \n2                       0.552013                    3.481903   \n3                       0.397909                    2.207909   \n4                       0.473671                    1.897246   \n..                           ...                         ...   \n95                      0.330037                    1.381270   \n96                      0.351781                    0.207435   \n97                      0.477838                    0.247387   \n98                      0.310597                    0.224030   \n99                      0.526602                    0.454742   \n\n    Pr_Voix_Ins_Emmanuel_Macron  Pr_Voix_Ins_Lassalle_Jean  \\\n0                     20.468065                   2.832346   \n1                     16.319394                   2.107895   \n2                     19.276792                   3.626681   \n3                     15.856920                   4.408783   \n4                     17.806908                   4.173961   \n..                          ...                        ...   \n95                    19.017411                   1.291504   \n96                     5.697648                   0.323848   \n97                     6.587177                   0.374174   \n98                     5.111791                   0.509552   \n99                     9.159376                   0.715742   \n\n    Pr_Voix_Ins_Le_Pen_Marine  Pr_Voix_Ins_Zemmour_Eric  \\\n0                   20.766267                  6.373493   \n1                   29.845626                  5.470883   \n2                   20.974558                  5.127788   \n3                   19.624791                  6.163004   \n4                   17.342850                  5.385024   \n..                        ...                       ...   \n95                  12.990555                  5.317312   \n96                   7.668599                  0.941853   \n97                   5.471622                  1.001652   \n98                   6.130224                  1.467090   \n99                  12.702656                  1.919258   \n\n    Pr_Voix_Ins_Jean_Luc_Mélenchon  Pr_Voix_Ins_Hidalgo_Anne  \\\n0                        12.989589                  1.331045   \n1                        10.049066                  0.766140   \n2                        12.172146                  1.249270   \n3                        17.721977                  1.059392   \n4                        18.762367                  1.230000   \n..                             ...                       ...   \n95                       23.157016                  0.827818   \n96                       23.906081                  0.710499   \n97                       21.207718                  1.233994   \n98                       17.096119                  0.491418   \n99                       20.666516                  0.814763   \n\n    Pr_Voix_Ins_Jadot_Yannick  Pr_Voix_Ins_Valerie_Pecresse  \\\n0                    3.629914                      4.105445   \n1                    1.966448                      3.609723   \n2                    2.300708                      4.331836   \n3                    3.119544                      3.016502   \n4                    4.334010                      3.927391   \n..                        ...                           ...   \n95                   2.885623                      3.766165   \n96                   0.582447                      1.242090   \n97                   0.632042                      1.564174   \n98                   0.870970                      0.929478   \n99                   1.161366                      1.424011   \n\n    Pr_Voix_Ins_Philippe_Poutou  Pr_Voix_Ins_Dupont_Aignan_Nicolas  \n0                      0.547140                           2.186404  \n1                      0.583409                           1.713501  \n2                      0.648673                           1.787920  \n3                      0.760190                           2.015323  \n4                      0.723671                           1.998986  \n..                          ...                                ...  \n95                     0.477226                           1.278829  \n96                     0.221045                           0.664608  \n97                     0.313243                           0.964354  \n98                     0.471716                           0.688582  \n99                     0.404968                           1.231258  \n\n[100 rows x 27 columns]",
      "text/html": "<div>\n<style scoped>\n    .dataframe tbody tr th:only-of-type {\n        vertical-align: middle;\n    }\n\n    .dataframe tbody tr th {\n        vertical-align: top;\n    }\n\n    .dataframe thead th {\n        text-align: right;\n    }\n</style>\n<table border=\"1\" class=\"dataframe\">\n  <thead>\n    <tr style=\"text-align: right;\">\n      <th></th>\n      <th>Code_du_département</th>\n      <th>Inscrits</th>\n      <th>Abstentions</th>\n      <th>Pr_Abs_Ins</th>\n      <th>Votants</th>\n      <th>Pr_Vot_Ins</th>\n      <th>Blancs</th>\n      <th>Pr_Blancs_Ins</th>\n      <th>Pr_Blancs_Vot</th>\n      <th>Nuls</th>\n      <th>Pr_Nuls_Ins</th>\n      <th>Pr_Nuls_Vot</th>\n      <th>Exprimés</th>\n      <th>Pr_Exp_Ins</th>\n      <th>Pr_Exp_Vot</th>\n      <th>Pr_Voix_Ins_Arthaud_Nathalie</th>\n      <th>Pr_Voix_Ins_Roussel_Fabien</th>\n      <th>Pr_Voix_Ins_Emmanuel_Macron</th>\n      <th>Pr_Voix_Ins_Lassalle_Jean</th>\n      <th>Pr_Voix_Ins_Le_Pen_Marine</th>\n      <th>Pr_Voix_Ins_Zemmour_Eric</th>\n      <th>Pr_Voix_Ins_Jean_Luc_Mélenchon</th>\n      <th>Pr_Voix_Ins_Hidalgo_Anne</th>\n      <th>Pr_Voix_Ins_Jadot_Yannick</th>\n      <th>Pr_Voix_Ins_Valerie_Pecresse</th>\n      <th>Pr_Voix_Ins_Philippe_Poutou</th>\n      <th>Pr_Voix_Ins_Dupont_Aignan_Nicolas</th>\n    </tr>\n  </thead>\n  <tbody>\n    <tr>\n      <th>0</th>\n      <td>01</td>\n      <td>438109</td>\n      <td>97541</td>\n      <td>21.171438</td>\n      <td>340568</td>\n      <td>78.828596</td>\n      <td>5641</td>\n      <td>1.290394</td>\n      <td>1.631267</td>\n      <td>1903</td>\n      <td>0.465668</td>\n      <td>0.588493</td>\n      <td>333024</td>\n      <td>77.072192</td>\n      <td>97.780274</td>\n      <td>0.392997</td>\n      <td>1.449709</td>\n      <td>20.468065</td>\n      <td>2.832346</td>\n      <td>20.766267</td>\n      <td>6.373493</td>\n      <td>12.989589</td>\n      <td>1.331045</td>\n      <td>3.629914</td>\n      <td>4.105445</td>\n      <td>0.547140</td>\n      <td>2.186404</td>\n    </tr>\n    <tr>\n      <th>1</th>\n      <td>02</td>\n      <td>373544</td>\n      <td>101089</td>\n      <td>23.640400</td>\n      <td>272455</td>\n      <td>76.359651</td>\n      <td>3767</td>\n      <td>1.087936</td>\n      <td>1.414569</td>\n      <td>2828</td>\n      <td>0.747125</td>\n      <td>0.972669</td>\n      <td>265860</td>\n      <td>74.524774</td>\n      <td>97.510021</td>\n      <td>0.552505</td>\n      <td>1.539969</td>\n      <td>16.319394</td>\n      <td>2.107895</td>\n      <td>29.845626</td>\n      <td>5.470883</td>\n      <td>10.049066</td>\n      <td>0.766140</td>\n      <td>1.966448</td>\n      <td>3.609723</td>\n      <td>0.583409</td>\n      <td>1.713501</td>\n    </tr>\n    <tr>\n      <th>2</th>\n      <td>03</td>\n      <td>249991</td>\n      <td>58497</td>\n      <td>22.154801</td>\n      <td>191494</td>\n      <td>77.845265</td>\n      <td>3749</td>\n      <td>1.555509</td>\n      <td>1.981327</td>\n      <td>1790</td>\n      <td>0.759027</td>\n      <td>0.972898</td>\n      <td>185955</td>\n      <td>75.531062</td>\n      <td>97.045907</td>\n      <td>0.552013</td>\n      <td>3.481903</td>\n      <td>19.276792</td>\n      <td>3.626681</td>\n      <td>20.974558</td>\n      <td>5.127788</td>\n      <td>12.172146</td>\n      <td>1.249270</td>\n      <td>2.300708</td>\n      <td>4.331836</td>\n      <td>0.648673</td>\n      <td>1.787920</td>\n    </tr>\n    <tr>\n      <th>3</th>\n      <td>04</td>\n      <td>128075</td>\n      <td>29290</td>\n      <td>21.602966</td>\n      <td>98785</td>\n      <td>78.016844</td>\n      <td>1478</td>\n      <td>1.226996</td>\n      <td>1.574411</td>\n      <td>624</td>\n      <td>0.437871</td>\n      <td>0.558403</td>\n      <td>96683</td>\n      <td>76.352091</td>\n      <td>97.487072</td>\n      <td>0.397909</td>\n      <td>2.207909</td>\n      <td>15.856920</td>\n      <td>4.408783</td>\n      <td>19.624791</td>\n      <td>6.163004</td>\n      <td>17.721977</td>\n      <td>1.059392</td>\n      <td>3.119544</td>\n      <td>3.016502</td>\n      <td>0.760190</td>\n      <td>2.015323</td>\n    </tr>\n    <tr>\n      <th>4</th>\n      <td>05</td>\n      <td>113519</td>\n      <td>25357</td>\n      <td>20.154493</td>\n      <td>88162</td>\n      <td>79.845604</td>\n      <td>1395</td>\n      <td>1.298841</td>\n      <td>1.606184</td>\n      <td>532</td>\n      <td>0.490290</td>\n      <td>0.612029</td>\n      <td>86235</td>\n      <td>78.056184</td>\n      <td>97.298454</td>\n      <td>0.473671</td>\n      <td>1.897246</td>\n      <td>17.806908</td>\n      <td>4.173961</td>\n      <td>17.342850</td>\n      <td>5.385024</td>\n      <td>18.762367</td>\n      <td>1.230000</td>\n      <td>4.334010</td>\n      <td>3.927391</td>\n      <td>0.723671</td>\n      <td>1.998986</td>\n    </tr>\n    <tr>\n      <th>...</th>\n      <td>...</td>\n      <td>...</td>\n      <td>...</td>\n      <td>...</td>\n      <td>...</td>\n      <td>...</td>\n      <td>...</td>\n      <td>...</td>\n      <td>...</td>\n      <td>...</td>\n      <td>...</td>\n      <td>...</td>\n      <td>...</td>\n      <td>...</td>\n      <td>...</td>\n      <td>...</td>\n      <td>...</td>\n      <td>...</td>\n      <td>...</td>\n      <td>...</td>\n      <td>...</td>\n      <td>...</td>\n      <td>...</td>\n      <td>...</td>\n      <td>...</td>\n      <td>...</td>\n      <td>...</td>\n    </tr>\n    <tr>\n      <th>95</th>\n      <td>95</td>\n      <td>733529</td>\n      <td>192853</td>\n      <td>25.622232</td>\n      <td>540676</td>\n      <td>74.254476</td>\n      <td>8027</td>\n      <td>1.108274</td>\n      <td>1.485968</td>\n      <td>3064</td>\n      <td>0.425857</td>\n      <td>0.579112</td>\n      <td>529585</td>\n      <td>72.720629</td>\n      <td>97.811677</td>\n      <td>0.330037</td>\n      <td>1.381270</td>\n      <td>19.017411</td>\n      <td>1.291504</td>\n      <td>12.990555</td>\n      <td>5.317312</td>\n      <td>23.157016</td>\n      <td>0.827818</td>\n      <td>2.885623</td>\n      <td>3.766165</td>\n      <td>0.477226</td>\n      <td>1.278829</td>\n    </tr>\n    <tr>\n      <th>96</th>\n      <td>ZA</td>\n      <td>316023</td>\n      <td>174592</td>\n      <td>55.469192</td>\n      <td>141431</td>\n      <td>44.530855</td>\n      <td>2719</td>\n      <td>0.855439</td>\n      <td>1.935392</td>\n      <td>3627</td>\n      <td>1.157245</td>\n      <td>2.641449</td>\n      <td>135085</td>\n      <td>42.518361</td>\n      <td>95.185344</td>\n      <td>0.351781</td>\n      <td>0.207435</td>\n      <td>5.697648</td>\n      <td>0.323848</td>\n      <td>7.668599</td>\n      <td>0.941853</td>\n      <td>23.906081</td>\n      <td>0.710499</td>\n      <td>0.582447</td>\n      <td>1.242090</td>\n      <td>0.221045</td>\n      <td>0.664608</td>\n    </tr>\n    <tr>\n      <th>97</th>\n      <td>ZB</td>\n      <td>304594</td>\n      <td>174588</td>\n      <td>57.606156</td>\n      <td>130006</td>\n      <td>42.393874</td>\n      <td>4001</td>\n      <td>1.300270</td>\n      <td>3.138709</td>\n      <td>3056</td>\n      <td>1.017117</td>\n      <td>2.455586</td>\n      <td>122949</td>\n      <td>40.076096</td>\n      <td>94.105526</td>\n      <td>0.477838</td>\n      <td>0.247387</td>\n      <td>6.587177</td>\n      <td>0.374174</td>\n      <td>5.471622</td>\n      <td>1.001652</td>\n      <td>21.207718</td>\n      <td>1.233994</td>\n      <td>0.632042</td>\n      <td>1.564174</td>\n      <td>0.313243</td>\n      <td>0.964354</td>\n    </tr>\n    <tr>\n      <th>98</th>\n      <td>ZC</td>\n      <td>102993</td>\n      <td>65754</td>\n      <td>64.384403</td>\n      <td>37239</td>\n      <td>35.615672</td>\n      <td>825</td>\n      <td>0.786269</td>\n      <td>2.147313</td>\n      <td>553</td>\n      <td>0.526194</td>\n      <td>1.479478</td>\n      <td>35861</td>\n      <td>34.303806</td>\n      <td>95.627313</td>\n      <td>0.310597</td>\n      <td>0.224030</td>\n      <td>5.111791</td>\n      <td>0.509552</td>\n      <td>6.130224</td>\n      <td>1.467090</td>\n      <td>17.096119</td>\n      <td>0.491418</td>\n      <td>0.870970</td>\n      <td>0.929478</td>\n      <td>0.471716</td>\n      <td>0.688582</td>\n    </tr>\n    <tr>\n      <th>99</th>\n      <td>ZD</td>\n      <td>675539</td>\n      <td>313159</td>\n      <td>46.502989</td>\n      <td>362380</td>\n      <td>53.497022</td>\n      <td>7361</td>\n      <td>1.089860</td>\n      <td>2.043624</td>\n      <td>8253</td>\n      <td>1.225968</td>\n      <td>2.339301</td>\n      <td>346766</td>\n      <td>51.181086</td>\n      <td>95.617032</td>\n      <td>0.526602</td>\n      <td>0.454742</td>\n      <td>9.159376</td>\n      <td>0.715742</td>\n      <td>12.702656</td>\n      <td>1.919258</td>\n      <td>20.666516</td>\n      <td>0.814763</td>\n      <td>1.161366</td>\n      <td>1.424011</td>\n      <td>0.404968</td>\n      <td>1.231258</td>\n    </tr>\n  </tbody>\n</table>\n<p>100 rows × 27 columns</p>\n</div>"
     },
     "execution_count": 78,
     "metadata": {},
     "output_type": "execute_result"
    }
   ],
   "source": [
    "df_resultats_elections_france_global_agg.head(100)"
   ],
   "metadata": {
    "collapsed": false,
    "ExecuteTime": {
     "end_time": "2024-04-18T17:23:35.842035200Z",
     "start_time": "2024-04-18T17:23:35.801032900Z"
    }
   },
   "id": "b7baef2c564529a",
   "execution_count": 78
  },
  {
   "cell_type": "code",
   "execution_count": 80,
   "id": "9ca5b0675f69a5de",
   "metadata": {
    "ExecuteTime": {
     "end_time": "2024-04-18T18:22:01.726371400Z",
     "start_time": "2024-04-18T18:22:01.548374700Z"
    }
   },
   "outputs": [
    {
     "data": {
      "text/plain": "    Département            Candidat  Total_voix\n0            01       Le_Pen_Marine   20.766267\n1            02       Le_Pen_Marine   29.845626\n2            03       Le_Pen_Marine   20.974558\n3            04       Le_Pen_Marine   19.624791\n4            05  Jean_Luc_Mélenchon   18.762367\n..          ...                 ...         ...\n102          ZP     Emmanuel_Macron   14.548240\n103          ZS  Jean_Luc_Mélenchon   20.777500\n104          ZW     Emmanuel_Macron   22.200000\n105          ZX  Jean_Luc_Mélenchon    8.829231\n106          ZZ     Emmanuel_Macron   14.685429\n\n[107 rows x 3 columns]",
      "text/html": "<div>\n<style scoped>\n    .dataframe tbody tr th:only-of-type {\n        vertical-align: middle;\n    }\n\n    .dataframe tbody tr th {\n        vertical-align: top;\n    }\n\n    .dataframe thead th {\n        text-align: right;\n    }\n</style>\n<table border=\"1\" class=\"dataframe\">\n  <thead>\n    <tr style=\"text-align: right;\">\n      <th></th>\n      <th>Département</th>\n      <th>Candidat</th>\n      <th>Total_voix</th>\n    </tr>\n  </thead>\n  <tbody>\n    <tr>\n      <th>0</th>\n      <td>01</td>\n      <td>Le_Pen_Marine</td>\n      <td>20.766267</td>\n    </tr>\n    <tr>\n      <th>1</th>\n      <td>02</td>\n      <td>Le_Pen_Marine</td>\n      <td>29.845626</td>\n    </tr>\n    <tr>\n      <th>2</th>\n      <td>03</td>\n      <td>Le_Pen_Marine</td>\n      <td>20.974558</td>\n    </tr>\n    <tr>\n      <th>3</th>\n      <td>04</td>\n      <td>Le_Pen_Marine</td>\n      <td>19.624791</td>\n    </tr>\n    <tr>\n      <th>4</th>\n      <td>05</td>\n      <td>Jean_Luc_Mélenchon</td>\n      <td>18.762367</td>\n    </tr>\n    <tr>\n      <th>...</th>\n      <td>...</td>\n      <td>...</td>\n      <td>...</td>\n    </tr>\n    <tr>\n      <th>102</th>\n      <td>ZP</td>\n      <td>Emmanuel_Macron</td>\n      <td>14.548240</td>\n    </tr>\n    <tr>\n      <th>103</th>\n      <td>ZS</td>\n      <td>Jean_Luc_Mélenchon</td>\n      <td>20.777500</td>\n    </tr>\n    <tr>\n      <th>104</th>\n      <td>ZW</td>\n      <td>Emmanuel_Macron</td>\n      <td>22.200000</td>\n    </tr>\n    <tr>\n      <th>105</th>\n      <td>ZX</td>\n      <td>Jean_Luc_Mélenchon</td>\n      <td>8.829231</td>\n    </tr>\n    <tr>\n      <th>106</th>\n      <td>ZZ</td>\n      <td>Emmanuel_Macron</td>\n      <td>14.685429</td>\n    </tr>\n  </tbody>\n</table>\n<p>107 rows × 3 columns</p>\n</div>"
     },
     "execution_count": 80,
     "metadata": {},
     "output_type": "execute_result"
    }
   ],
   "source": [
    "# Liste des noms des candidats\n",
    "candidats = ['Arthaud_Nathalie', 'Roussel_Fabien', 'Emmanuel_Macron', 'Lassalle_Jean', 'Le_Pen_Marine', 'Zemmour_Eric', 'Jean_Luc_Mélenchon','Hidalgo_Anne', 'Jadot_Yannick', 'Valerie_Pecresse', 'Philippe_Poutou', 'Dupont_Aignan_Nicolas']\n",
    "\n",
    "# Initialisation d'une liste pour stocker les résultats par département\n",
    "results = []\n",
    "\n",
    "# Parcours de chaque département\n",
    "for departement, data in df_resultats_elections_france_global_agg.groupby('Code_du_département'):\n",
    "    # Initialisation des variables pour stocker le nom du candidat avec le total le plus élevé et le total correspondant pour ce département\n",
    "    candidat_max = None\n",
    "    total_max = 0\n",
    "   \n",
    "    # Parcours de la liste des noms de candidats\n",
    "    for candidat in candidats:\n",
    "        # Calcul de la somme totale des voix pour ce candidat dans ce département\n",
    "        total_voix_candidat = data[f'Pr_Voix_Ins_{candidat}'].sum()\n",
    "       \n",
    "        # Vérification si le total est supérieur au maximum actuel\n",
    "        if total_voix_candidat > total_max:\n",
    "            total_max = total_voix_candidat\n",
    "            candidat_max = candidat\n",
    "   \n",
    "    # Ajout des résultats pour ce département à la liste des résultats\n",
    "    results.append({'Département': departement, 'Candidat': candidat_max, 'Total_voix': total_max})\n",
    "\n",
    "# Création du DataFrame à partir de la liste des résultats\n",
    "df_resultats = pd.DataFrame(results)\n",
    "\n",
    "# Affichage du DataFrame\n",
    "df_resultats.head(200)"
   ]
  },
  {
   "cell_type": "code",
   "execution_count": null,
   "id": "86e3d2095f3de732",
   "metadata": {
    "ExecuteTime": {
     "start_time": "2024-04-18T12:32:13.966980800Z"
    }
   },
   "outputs": [],
   "source": []
  }
 ],
 "metadata": {
  "kernelspec": {
   "display_name": "Python 3 (ipykernel)",
   "language": "python",
   "name": "python3"
  },
  "language_info": {
   "codemirror_mode": {
    "name": "ipython",
    "version": 3
   },
   "file_extension": ".py",
   "mimetype": "text/x-python",
   "name": "python",
   "nbconvert_exporter": "python",
   "pygments_lexer": "ipython3",
   "version": "3.10.7"
  }
 },
 "nbformat": 4,
 "nbformat_minor": 5
}
