{
 "cells": [
  {
   "cell_type": "code",
   "execution_count": null,
   "id": "e35ac16c",
   "metadata": {
    "ExecuteTime": {
     "end_time": "2024-02-26T09:23:57.735519300Z",
     "start_time": "2024-02-26T09:23:54.555510400Z"
    }
   },
   "outputs": [],
   "source": [
    "import pandas as pd"
   ]
  },
  {
   "cell_type": "code",
   "execution_count": null,
   "id": "59689df8",
   "metadata": {
    "ExecuteTime": {
     "end_time": "2024-02-26T09:24:03.629143800Z",
     "start_time": "2024-02-26T09:24:03.573151700Z"
    }
   },
   "outputs": [],
   "source": [
    "chemin_fichier = r'C:\\Users\\mouba\\OneDrive\\Desktop\\resultats-par-niveau-burvot-t1-france-entiere.xlsx'"
   ]
  },
  {
   "cell_type": "code",
   "execution_count": null,
   "id": "26a8685a",
   "metadata": {
    "ExecuteTime": {
     "end_time": "2024-02-26T09:25:08.617565800Z",
     "start_time": "2024-02-26T09:25:08.347567300Z"
    }
   },
   "outputs": [],
   "source": [
    "df = pd.read_excel(chemin_fichier)\n",
    "df.head(1000)"
   ]
  },
  {
   "cell_type": "code",
   "execution_count": null,
   "id": "9ca5b0675f69a5de",
   "metadata": {},
   "outputs": [],
   "source": []
  }
 ],
 "metadata": {
  "kernelspec": {
   "display_name": "Python 3 (ipykernel)",
   "language": "python",
   "name": "python3"
  },
  "language_info": {
   "codemirror_mode": {
    "name": "ipython",
    "version": 3
   },
   "file_extension": ".py",
   "mimetype": "text/x-python",
   "name": "python",
   "nbconvert_exporter": "python",
   "pygments_lexer": "ipython3",
   "version": "3.11.5"
  }
 },
 "nbformat": 4,
 "nbformat_minor": 5
}
