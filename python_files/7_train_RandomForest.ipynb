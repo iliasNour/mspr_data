{
 "cells": [
  {
   "cell_type": "markdown",
   "metadata": {},
   "source": [
    "<img align=\"right\" src=\"https://www.python.org/static/community_logos/python-logo-master-v3-TM.png\" style=\"height: 100px; width:300px;\"/>\n",
    "<img align=\"left\" src=\"../theme/mowgli_logo.png\" style=\"height: 150px; width:200px;\"/>"
   ]
  },
  {
   "cell_type": "markdown",
   "metadata": {},
   "source": [
    "# <h3 align=\"center\">**Notebook Random Forest - Projet Mowgli**</h3> "
   ]
  },
  {
   "cell_type": "markdown",
   "metadata": {},
   "source": [
    " Ce notebook a pour but de montrer **l'implémentation du modèle Random Forest** et des principaux paramètres à tuner afin d'améliorer les performances du modèle."
   ]
  },
  {
   "cell_type": "markdown",
   "metadata": {},
   "source": [
    " <div class=\"alert alert-block alert-danger\">\n",
    "    Dans ce notebook, l'attention est portée sur le modèle de Random Forest. <b>La démarche d'évaluation du modèle est loin d'être parfaite et sera traitée dans un autre notebook</b>.\n",
    "</div>"
   ]
  },
  {
   "cell_type": "code",
   "execution_count": 1,
   "metadata": {},
   "outputs": [],
   "source": [
    "# Base\n",
    "from pathlib import Path\n",
    "\n",
    "# Preprocessing\n",
    "import numpy as np\n",
    "import pandas as pd\n",
    "\n",
    "# Modelling\n",
    "from sklearn.impute import SimpleImputer\n",
    "from sklearn.preprocessing import StandardScaler\n",
    "from sklearn.preprocessing import OneHotEncoder\n",
    "from sklearn.compose import ColumnTransformer, make_column_transformer\n",
    "from sklearn.pipeline import Pipeline\n",
    "from sklearn.model_selection import train_test_split"
   ]
  },
  {
   "cell_type": "markdown",
   "metadata": {},
   "source": [
    "## **1. Preprocessing**"
   ]
  },
  {
   "cell_type": "markdown",
   "metadata": {},
   "source": [
    "### **1.1. Chargement des données**"
   ]
  },
  {
   "cell_type": "markdown",
   "metadata": {},
   "source": [
    "**Données : Base de consommation électrique - MA**"
   ]
  },
  {
   "cell_type": "code",
   "execution_count": 2,
   "metadata": {},
   "outputs": [],
   "source": [
    "PROJECT_PATH = Path(\"/dataspacefull_share/transverse/Mowgli/dev/\")"
   ]
  },
  {
   "cell_type": "code",
   "execution_count": 3,
   "metadata": {},
   "outputs": [],
   "source": [
    "data_reg = pd.read_csv(\n",
    "    PROJECT_PATH / \"data\" / \"base_regression1.csv\", sep=\";\", decimal=\",\"\n",
    ")"
   ]
  },
  {
   "cell_type": "code",
   "execution_count": 4,
   "metadata": {},
   "outputs": [],
   "source": [
    "numerical_cols = [\n",
    "    \"NB_ANNEE_CREATION_ET\",\n",
    "    \"NB_ANNEE_CREATION_EN\",\n",
    "    \"SIREN_NB_SIRET\",\n",
    "    \"SIRET_TRANCHE_EFFECTIF_CONSOLIDE\",\n",
    "    \"SIREN_TRANCHE_EFFECTIF_CONSOLIDE\",\n",
    "    \"DEPT_SECT_CONSOMMATION_MWH\",\n",
    "    \"NOMBRE_BATI\",\n",
    "    \"SURFACE_AU_SOL_TOTALE\",\n",
    "    \"SURFACE_PLANCHER_TOTALE\",\n",
    "    \"SURFACE_AU_SOL_PONDEREE\",\n",
    "    \"SURFACE_PLANCHER_PONDEREE\",\n",
    "    \"SCORE_IGN\",\n",
    "    \"NBRE_SIRET_ADR\",\n",
    "    \"latitude\",\n",
    "    \"longitude\",\n",
    "    \"DEPT_DJU\",\n",
    "    \"ZONE_URBAINE\",\n",
    "]\n",
    "categorical_cols = [\n",
    "    \"SIEGE\",\n",
    "    \"BRANCHE\",\n",
    "    \"SOUS_BRANCHE\",\n",
    "    \"SIREN_CA_SUP_1MILLION_EUR\",\n",
    "    \"ZONE_CLIMATIQUE\",\n",
    "]\n",
    "other_cols = [\"SIRET\", \"SIRET_CONSOMMATIONMWH_ANNUELLE\"]\n",
    "# unused_cols = ['Unnamed: 0', 'SIREN', 'LIBAPET', 'NJ', 'L4_NORMALISEE', 'L6_NORMALISEE', 'DEPET', 'NAF_SECT_ET', 'NJ1', 'SIREN_RISQUE', 'NIV1NAF', 'NIV2NAF', 'FLAG_BRANCHE_TERTIAIRE', \\\n",
    "#                'APET700', 'SOUS_BRANCHE']\n",
    "unused_cols = [\n",
    "    \"SIREN\",\n",
    "    \"NAF_SECT_ET\",\n",
    "    \"NJ1\",\n",
    "    \"SIREN_RISQUE\",\n",
    "    \"NIV1NAF\",\n",
    "    \"NIV2NAF\",\n",
    "    \"FLAG_BRANCHE_TERTIAIRE\",\n",
    "    \"APET700\",\n",
    "]\n",
    "\n",
    "data_reg = data_reg[data_reg.SURFACE_PLANCHER_PONDEREE != 0]\n",
    "data_reg = data_reg[data_reg.SURFACE_AU_SOL_PONDEREE != 0]\n",
    "data_reg = data_reg[data_reg.SIRET_CONSOMMATIONMWH_ANNUELLE > 0]"
   ]
  },
  {
   "cell_type": "code",
   "execution_count": 5,
   "metadata": {},
   "outputs": [],
   "source": [
    "data_reg = data_reg.astype(\n",
    "    {\n",
    "        \"NB_ANNEE_CREATION_ET\": \"float64\",\n",
    "        \"NB_ANNEE_CREATION_EN\": \"float64\",\n",
    "        \"DEPT_SECT_CONSOMMATION_MWH\": \"float64\",\n",
    "    }\n",
    ")\n",
    "data_reg = data_reg[~data_reg[\"SIRET_CONSOMMATIONMWH_ANNUELLE\"].isna()]\n",
    "data_reg = data_reg[data_reg.FLAG_BRANCHE_TERTIAIRE == 1]\n",
    "\n",
    "\n",
    "data_reg = data_reg[data_reg.SURFACE_PLANCHER_PONDEREE != 0]\n",
    "data_reg = data_reg[data_reg.SURFACE_AU_SOL_PONDEREE != 0]\n",
    "data_reg = data_reg[data_reg.SIRET_CONSOMMATIONMWH_ANNUELLE > 0]"
   ]
  },
  {
   "cell_type": "code",
   "execution_count": 6,
   "metadata": {},
   "outputs": [],
   "source": [
    "# Surfaces to log(Surfaces)\n",
    "\n",
    "data_reg[\"SURFACE_AU_SOL_PONDEREE\"] = np.log10(data_reg[\"SURFACE_AU_SOL_PONDEREE\"])\n",
    "data_reg[\"SURFACE_PLANCHER_PONDEREE\"] = np.log10(data_reg[\"SURFACE_PLANCHER_PONDEREE\"])\n",
    "data_reg[\"SURFACE_AU_SOL_TOTALE\"] = np.log10(data_reg[\"SURFACE_AU_SOL_TOTALE\"])\n",
    "data_reg[\"SURFACE_PLANCHER_TOTALE\"] = np.log10(data_reg[\"SURFACE_PLANCHER_TOTALE\"])\n",
    "\n",
    "# Conso to log(Conso)\n",
    "\n",
    "data_reg[\"SIRET_CONSOMMATIONMWH_ANNUELLE\"] = np.log10(\n",
    "    data_reg[\"SIRET_CONSOMMATIONMWH_ANNUELLE\"]\n",
    ")"
   ]
  },
  {
   "cell_type": "code",
   "execution_count": 7,
   "metadata": {},
   "outputs": [],
   "source": [
    "transfo = data_reg.copy(deep=True)\n",
    "transfo.drop(unused_cols, axis=1, inplace=True)"
   ]
  },
  {
   "cell_type": "markdown",
   "metadata": {},
   "source": [
    "### **1.2. Train/Test split**"
   ]
  },
  {
   "cell_type": "code",
   "execution_count": 8,
   "metadata": {},
   "outputs": [],
   "source": [
    "train, test = train_test_split(transfo, test_size=0.2)\n",
    "train, val = train_test_split(train, test_size=0.2)"
   ]
  },
  {
   "cell_type": "markdown",
   "metadata": {
    "tags": []
   },
   "source": [
    "### **1.3. Création du Pipeline de preprocessing**"
   ]
  },
  {
   "cell_type": "code",
   "execution_count": 9,
   "metadata": {},
   "outputs": [],
   "source": [
    "# on définit les colonnes et les transformations pour les colonnes quantitatives\n",
    "numerical_cols\n",
    "\n",
    "transfo_quanti = Pipeline(\n",
    "    steps=[\n",
    "        # ('remove_outliers',OutlierRemover(factor=1.5)),\n",
    "        (\"imputation\", SimpleImputer(strategy=\"median\")),\n",
    "        (\"standard\", StandardScaler()),\n",
    "    ]\n",
    ")\n",
    "\n",
    "# on définit les colonnes et les transformations pour les variables qualitatives\n",
    "categorical_cols\n",
    "\n",
    "transfo_quali = Pipeline(\n",
    "    steps=[\n",
    "        # ('rare_values',RareValuesGrouper(threshold=0.05)),\n",
    "        (\"imputation\", SimpleImputer(strategy=\"most_frequent\")),\n",
    "        (\"onehot\", OneHotEncoder(handle_unknown=\"ignore\")),\n",
    "    ]\n",
    ")\n",
    "\n",
    "# on définit l'objet de la classe ColumnTransformer qui va permettre d'appliquer toutes les étapes\n",
    "preparation = ColumnTransformer(\n",
    "    remainder=\"passthrough\",\n",
    "    transformers=[\n",
    "        (\"quanti\", transfo_quanti, numerical_cols),\n",
    "        (\"quali\", transfo_quali, categorical_cols),\n",
    "    ],\n",
    ")"
   ]
  },
  {
   "cell_type": "code",
   "execution_count": 10,
   "metadata": {},
   "outputs": [],
   "source": [
    "# On fit-transforme le train\n",
    "train_transformed = preparation.fit_transform(train)\n",
    "\n",
    "# On transforme la validation\n",
    "val_transformed = preparation.transform(val)\n",
    "\n",
    "# On transforme le test\n",
    "test_transformed = preparation.transform(test)"
   ]
  },
  {
   "cell_type": "code",
   "execution_count": 11,
   "metadata": {},
   "outputs": [],
   "source": [
    "# On récupère les noms des colonnes onehot encodées\n",
    "categorical_onehotenc_cols = (\n",
    "    preparation.transformers_[1][1][1].get_feature_names_out().tolist()\n",
    ")\n",
    "\n",
    "# On transforme la matrice résultante de la transformation en dataframe\n",
    "train_transformed = pd.DataFrame(\n",
    "    train_transformed, columns=numerical_cols + categorical_onehotenc_cols + other_cols\n",
    ")\n",
    "\n",
    "val_transformed = pd.DataFrame(\n",
    "    val_transformed, columns=numerical_cols + categorical_onehotenc_cols + other_cols\n",
    ")\n",
    "\n",
    "test_transformed = pd.DataFrame(\n",
    "    test_transformed, columns=numerical_cols + categorical_onehotenc_cols + other_cols\n",
    ")"
   ]
  },
  {
   "cell_type": "code",
   "execution_count": 12,
   "metadata": {},
   "outputs": [],
   "source": [
    "feature_cols = [\n",
    "    x\n",
    "    for x in train_transformed.columns\n",
    "    if x not in [\"SIRET\", \"SIRET_CONSOMMATIONMWH_ANNUELLE\"]\n",
    "]"
   ]
  },
  {
   "cell_type": "code",
   "execution_count": 13,
   "metadata": {},
   "outputs": [],
   "source": [
    "def get_dataset(df):\n",
    "    X = df.loc[:, feature_cols]\n",
    "    y = df[\"SIRET_CONSOMMATIONMWH_ANNUELLE\"]\n",
    "    return X, y"
   ]
  },
  {
   "cell_type": "code",
   "execution_count": 14,
   "metadata": {},
   "outputs": [],
   "source": [
    "X_train, y_train = get_dataset(train_transformed)\n",
    "X_val, y_val = get_dataset(val_transformed)\n",
    "X_test, y_test = get_dataset(test_transformed)"
   ]
  },
  {
   "cell_type": "markdown",
   "metadata": {},
   "source": [
    "## **2. Modélisation**"
   ]
  },
  {
   "cell_type": "markdown",
   "metadata": {},
   "source": [
    "### **2.1. Définition du modèle du RandomForest**"
   ]
  },
  {
   "cell_type": "markdown",
   "metadata": {},
   "source": [
    "L’algorithme des « forêts aléatoires » (ou « Random Forest ») permet de combiner un grand nombre d’arbres de décision où chaque arbre est entrainé sur des sous-ensembles de données différents selon une approche de type « bagging », c’est-à-dire par tirage aléatoire avec remise, et uniquement sur un sous ensemble de variables choisies de manière aléatoire. \n",
    "\n",
    "Cet algorithme est l’un des modèles les plus efficaces pour les données tabulaires et nécessite très peu de prétraitement de données. Il a permis d’améliorer significativement les performances de notre estimation de la consommation."
   ]
  },
  {
   "cell_type": "markdown",
   "metadata": {},
   "source": [
    "### **2.2. Implémentation du modèle**"
   ]
  },
  {
   "cell_type": "markdown",
   "metadata": {},
   "source": [
    "Ici nous allons traiter une problématique de type régression, nous allons donc utiliser la classe issue de sklearn `RandomForestRegressor`.\n",
    "\n",
    "Dans le cadre d'une classification, c'est la classe `RandomForestClassifier` qui devra être utilisée."
   ]
  },
  {
   "cell_type": "markdown",
   "metadata": {},
   "source": [
    "Dans un premier temps, nous allons implémenter **un modèle Random Forest simple**, en paramétrant uniquement le nombre d'arbres `n_estimators`. Le nombre d'arbres est le paramètre le plus important pour un modèle de Random Forest.\n",
    ": "
   ]
  },
  {
   "cell_type": "code",
   "execution_count": 15,
   "metadata": {},
   "outputs": [],
   "source": [
    "from sklearn.ensemble import RandomForestRegressor\n",
    "\n",
    "# from sklearn.ensemble import RandomForestClassifier # à utiliser dans le cadre d'une classification"
   ]
  },
  {
   "cell_type": "code",
   "execution_count": 16,
   "metadata": {},
   "outputs": [],
   "source": [
    "rf = RandomForestRegressor(n_estimators=500, random_state=42)\n",
    "rf.fit(X_train, y_train);"
   ]
  },
  {
   "cell_type": "code",
   "execution_count": 17,
   "metadata": {},
   "outputs": [],
   "source": [
    "y_train_predicted = rf.predict(X_train)\n",
    "y_val_predicted = rf.predict(X_val)"
   ]
  },
  {
   "cell_type": "markdown",
   "metadata": {},
   "source": [
    "#### **Importance des variables**"
   ]
  },
  {
   "cell_type": "markdown",
   "metadata": {},
   "source": [
    "L'implémentation des Random Forest dans scikit-learn permet d'obtenir facilement l'importance des features. \n",
    "Par contre, la [méthode implémentée de calcul de l'importance des features](https://scikit-learn.org/stable/modules/generated/sklearn.ensemble.RandomForestRegressor.html#sklearn.ensemble.RandomForestRegressor.feature_importances_) donne souvent des résultats biaisés. <b>Des méthodes d'explicabilité plus robustes sont abordées dans le notebook d'explicabilité.\n",
    "\n",
    "Pour plus d'informations sur les limites de la méthode de calcul d'importances implémentée par défaut dans scikit-learn: [Beware Default Random Forest Importances](https://explained.ai/rf-importance/index.html)"
   ]
  },
  {
   "cell_type": "markdown",
   "metadata": {},
   "source": [
    "<hr></hr>\n",
    "L'importance des variables est normalisée, la somme de l'importance de toutes les colonnes est égale à 1."
   ]
  },
  {
   "cell_type": "code",
   "execution_count": 18,
   "metadata": {},
   "outputs": [
    {
     "data": {
      "text/plain": [
       "array([9.52805309e-03, 9.28925732e-03, 5.20254418e-03, 7.56387239e-03,\n",
       "       5.45733923e-03, 7.64987300e-03, 2.51688733e-03, 8.63281818e-03,\n",
       "       8.16402560e-03, 8.75018570e-03, 7.87445251e-01, 1.94776779e-03,\n",
       "       5.65143846e-03, 9.79292471e-03, 9.79933080e-03, 6.44589284e-03,\n",
       "       6.28493283e-03, 4.71296719e-04, 4.99440540e-04, 3.65345212e-03,\n",
       "       5.25254557e-03, 1.42590879e-02, 8.16186846e-04, 3.43182261e-04,\n",
       "       4.77784023e-04, 2.62873798e-04, 1.56549250e-04, 2.57723126e-03,\n",
       "       1.52020930e-03, 2.15450720e-02, 2.01315851e-03, 4.27839700e-03,\n",
       "       8.73784647e-04, 1.48559579e-03, 6.97512821e-04, 6.23464971e-04,\n",
       "       6.21806268e-04, 9.06877677e-03, 9.26949152e-05, 9.84822903e-03,\n",
       "       9.92764397e-04, 4.89497833e-03, 1.74898675e-03, 7.28493614e-04,\n",
       "       2.32341826e-03, 3.83678262e-04, 2.68115297e-03, 5.69221553e-04,\n",
       "       3.49965531e-04, 1.49388905e-04, 8.26117958e-04, 8.01292969e-04,\n",
       "       8.16017816e-04, 7.88486886e-04, 3.85309369e-04])"
      ]
     },
     "execution_count": 18,
     "metadata": {},
     "output_type": "execute_result"
    }
   ],
   "source": [
    "rf.feature_importances_"
   ]
  },
  {
   "cell_type": "code",
   "execution_count": 19,
   "metadata": {},
   "outputs": [
    {
     "data": {
      "text/plain": [
       "<AxesSubplot:>"
      ]
     },
     "execution_count": 19,
     "metadata": {},
     "output_type": "execute_result"
    },
    {
     "data": {
      "image/png": "[encoded data removed]",
      "text/plain": [
       "<Figure size 864x576 with 1 Axes>"
      ]
     },
     "metadata": {
      "needs_background": "light"
     },
     "output_type": "display_data"
    }
   ],
   "source": [
    "feat_importances = pd.DataFrame(\n",
    "    rf.feature_importances_, index=feature_cols, columns=[\"Importance\"]\n",
    ")\n",
    "feat_importances.sort_values(by=\"Importance\", ascending=False, inplace=True)\n",
    "feat_importances.plot(kind=\"bar\", figsize=(12, 8))"
   ]
  },
  {
   "cell_type": "markdown",
   "metadata": {},
   "source": [
    "**Performances :**"
   ]
  },
  {
   "cell_type": "code",
   "execution_count": 20,
   "metadata": {},
   "outputs": [],
   "source": [
    "from sklearn.metrics import r2_score"
   ]
  },
  {
   "cell_type": "code",
   "execution_count": 21,
   "metadata": {},
   "outputs": [
    {
     "data": {
      "text/plain": [
       "0.9820485807322747"
      ]
     },
     "execution_count": 21,
     "metadata": {},
     "output_type": "execute_result"
    }
   ],
   "source": [
    "r2_score(y_train, y_train_predicted)"
   ]
  },
  {
   "cell_type": "code",
   "execution_count": 22,
   "metadata": {},
   "outputs": [
    {
     "data": {
      "text/plain": [
       "0.8687992173790564"
      ]
     },
     "execution_count": 22,
     "metadata": {},
     "output_type": "execute_result"
    }
   ],
   "source": [
    "r2_score(y_val, y_val_predicted)"
   ]
  },
  {
   "cell_type": "markdown",
   "metadata": {},
   "source": [
    "En comparant **les deux scores obtenus sur l'ensemble d'apprentissage et l'ensemble de test**, nous remarquons que le modèle **overfitte**.\n",
    "\n",
    "Afin d'éviter ce phénoméne, nous allons **tuner différents paramètres** de notre modèle en construisant un **GridSearch** dans la section suivante et nous allons comparer les différentes performances. "
   ]
  },
  {
   "cell_type": "markdown",
   "metadata": {},
   "source": [
    "#### **Incertitude des prédictions**"
   ]
  },
  {
   "cell_type": "markdown",
   "metadata": {},
   "source": [
    "Comme le random forest est un modèle d'ensemble d'arbres de décision, pour prédire le résultat d'un point donné, on fait passer le point en question par tous les arbres de décision.\n",
    "\n",
    "Dans le cas de régression, la prédiction finale du random forest est la moyenne des prédictions des arbres de décision. Pour avoir **une idéee de l'incertitude de la prédiction**, on peut aussi calculer **l'écart-type des prédictions des arbres de décision**."
   ]
  },
  {
   "cell_type": "markdown",
   "metadata": {},
   "source": [
    "Dans les lignes de code ci-dessous, on réalise le calcul pour le *premier point du train set*. Le calcul peut très bien être fait pour tous les points du jeu de données."
   ]
  },
  {
   "cell_type": "code",
   "execution_count": 23,
   "metadata": {
    "tags": []
   },
   "outputs": [],
   "source": [
    "# On calcule la prédiction de chaque arbre de décision\n",
    "all_estimators_preds = np.stack(\n",
    "    [t.predict(X_train.loc[[0]].to_numpy()) for t in rf.estimators_]\n",
    ")"
   ]
  },
  {
   "cell_type": "markdown",
   "metadata": {},
   "source": [
    "La moyenne des prédictions des arbres de décision constituant le random forest correspond à la prédiction du random forest."
   ]
  },
  {
   "cell_type": "code",
   "execution_count": 24,
   "metadata": {},
   "outputs": [
    {
     "data": {
      "text/plain": [
       "array([1.73960724])"
      ]
     },
     "execution_count": 24,
     "metadata": {},
     "output_type": "execute_result"
    }
   ],
   "source": [
    "# Prédiction du random forest\n",
    "rf.predict(X_train.loc[[0]])"
   ]
  },
  {
   "cell_type": "code",
   "execution_count": 25,
   "metadata": {},
   "outputs": [
    {
     "data": {
      "text/plain": [
       "1.7396072406666878"
      ]
     },
     "execution_count": 25,
     "metadata": {},
     "output_type": "execute_result"
    }
   ],
   "source": [
    "# Moyenne des prédictions\n",
    "np.mean(all_estimators_preds)"
   ]
  },
  {
   "cell_type": "markdown",
   "metadata": {},
   "source": [
    "L'écart-type des prédictions peut être calculé ainsi:"
   ]
  },
  {
   "cell_type": "code",
   "execution_count": 26,
   "metadata": {},
   "outputs": [
    {
     "data": {
      "text/plain": [
       "0.09035933682146148"
      ]
     },
     "execution_count": 26,
     "metadata": {},
     "output_type": "execute_result"
    }
   ],
   "source": [
    "np.std(all_estimators_preds)"
   ]
  },
  {
   "cell_type": "code",
   "execution_count": 27,
   "metadata": {},
   "outputs": [
    {
     "name": "stdout",
     "output_type": "stream",
     "text": [
      "La prédiction du modèle pour ce point est 1.740 ± 0.090\n"
     ]
    }
   ],
   "source": [
    "print(\n",
    "    f\"La prédiction du modèle pour ce point est {rf.predict(X_train.loc[[0]]).item():.3f} ± {np.std(all_estimators_preds):.3f}\"\n",
    ")"
   ]
  },
  {
   "cell_type": "markdown",
   "metadata": {},
   "source": [
    "Un **intervalle de confiance de la prédiction à 95%**  peut également être calculé."
   ]
  },
  {
   "cell_type": "code",
   "execution_count": 28,
   "metadata": {},
   "outputs": [
    {
     "data": {
      "text/plain": [
       "array([1.53623696, 1.89925726])"
      ]
     },
     "execution_count": 28,
     "metadata": {},
     "output_type": "execute_result"
    }
   ],
   "source": [
    "np.quantile(all_estimators_preds, [0.025, 0.975])"
   ]
  },
  {
   "cell_type": "markdown",
   "metadata": {
    "tags": []
   },
   "source": [
    "### **2.3. Implémation via GridSearch**"
   ]
  },
  {
   "cell_type": "markdown",
   "metadata": {},
   "source": [
    "Cette approche peut se révéler **très performante**, elle consiste à utiliser la recherche par quadrillage. \n",
    "\n",
    "Son implémentation est plutôt simple, l'idée est de donner **une liste de valeurs pour chacun des hyper-paramètres** et pour chacune des combinaisons, un modèle sera entraineé, pour conserver à la fin celui avec **le meilleur score**. "
   ]
  },
  {
   "cell_type": "markdown",
   "metadata": {},
   "source": [
    "<div class=\"alert alert-block alert-success\"><b>\n",
    "    NB :</b> D'autres alternatives existent pour tuner les hyperparamètres telles que l'utilisation de la recherche aléatoire d'hyperparamètres `RandomizedSearchCV` ou les méthodes de recherche bayésiennes.</div>"
   ]
  },
  {
   "cell_type": "markdown",
   "metadata": {},
   "source": [
    "#### **Paramètres à tuner**"
   ]
  },
  {
   "cell_type": "markdown",
   "metadata": {},
   "source": [
    "Nous retrouvons ci-dessous **une description des paramètres importants** lors de l'entrainement d'un modèle de RandomForest :"
   ]
  },
  {
   "cell_type": "markdown",
   "metadata": {},
   "source": [
    "- **n_estimators**: Nombre d'abres de décision à entrainer dans le modèle. Dans le cas où l'entrainement se fait sur un grand nombre d'arbres, il permet d'avoir de meilleures performances mais rend l'exécution beaucoup plus lente et augmente le risque d'overfitting.\n",
    "\n",
    "- **max_features**: Nombre maximal des variables à considèrer lors de chaque split. En limitant le nombre de features pour chaque arbre, ceci pourrait réduire la performance de chaque arbre mais a le grand avantage de produire des arbres décorrélés entre eux. Il est souvent conseillé de prendre la racine carré du nombre de features du dataset.\n",
    "<br>Si on utilise tous les features et que la liste des variables contient une variable avec un fort pouvoir prédictif, on risque de toujours avoir cette variable au niveau du premier split des arbres, et donc avoir des arbres trop similaires.\n",
    "\n",
    "- **max_depth**: Profondeur maximale de chaque arbre du modèle. Il correspond au chemin le plus long entre le noeud \"root\" et le noeud \"terminal\". Ce paramètre permet de réduire la complexité du modèle, en réduisant ainsi le risque d'overfitting.\n",
    "\n",
    "- **min_samples_leaf**: Nombre minimal d'échantillons de données requis pour être dans un noeud \"terminal\". Ce paramètre influence aussi la profondeur max de l'arbre et permet également de réduire le risque d'overfitting. \n",
    "\n",
    "- **bootstrap**: [`True` ou `False`] Choix de la stratégie d'échantillonage, avec ou sans remise. Dans le modèle RF, par défaut, l'échantillonage sera effectué avec remise. Si `boostrap` est égal à `False`, toutes les données seront utilisées pour entrainer chaque arbre de décision, il n'y a donc pas de variation aléatoire entre les arbres par rapport aux exemples sélectionnés à chaque étape. Cependant, la forêt aléatoire a une deuxième source de variation, qui est le sous-ensemble aléatoire de variables à considérer lors de chaque split.\n",
    "\n",
    "- **oob_score**: [`True` ou `False`] Quand bootstrap est égale à `True`, chaque arbre est entrainé sur un échantillon (échantillonage avec remise) des données. Le reste des lignes faisant partie du training set n'est donc pas utilisé lors de l'entrainement par l'arbre. Ces lignes là constituent **l'échantillon Out-of-bag** et peuvent donc être utilisées de manière équivalent à un validation set.\n",
    "<br>Chaque arbre peut donc être évalué sur son échantillon out-of-bag et le résultat peut être considéré comme un score de validation. Le `oob_score` correspond au score par défaut du modèle sur l'échantillon out-of-bag. Cette mesure est **pratique surtout quand le jeu de données a une taille limitée et le validation set ne peut pas être construit**.\n",
    "<br>D'autres métriques peuvent être calculées sur l'échantillon out-of-bag en utilisant `oob_prediction_`.\n",
    "\n",
    "- **n_jobs**: Nombre de CPUs utilisés lors de l'entrainement.\n",
    "\n",
    "- **random_state**: Choix du facteur aléatoire. Il s'agit du paramètre qui assure que les résultats obtenus soient reproductibles étant donné la nature aléatoire du modèle RF. \n",
    "\n",
    "- **verbose**: Permet d'afficher des informations plus « détaillées » pour la tâche executée.\n",
    "\n",
    "\n"
   ]
  },
  {
   "cell_type": "markdown",
   "metadata": {},
   "source": [
    "Pour **implémenter le GridSearch** avec Scikit-Learn,  il suffit de créer un dictionnaire Python \"param_grid\" avec les hyper-paramètres a paramétrer et les valeurs qu'on souhaite tester.\n",
    "\n",
    "Dans le modèle de random forest, tous les paramètres n'apportent pas un vrai gain de performance. Générelement, il suffit de tuner les paramètres suivants:\n",
    "- **n_estimators**: Le nombre d'arbres est généralement le paramètre le plus important lors de l'entrainement d'un modèle de random forest. Parfois, il convient de commencer par un test de plusieurs valeurs du nombre d'estimateurs afin de déterminer le nombre d'estimateurs nécessaires pour overfitter. Une fois que ce seuil est déterminé, les paramètres ci-dessous vont permettre de régulariser le modèle.\n",
    "\n",
    "- **min_samples_leaf**\n",
    "- **max_depth**\n",
    "- **max_features**: Quand le nombre d'arbres est grand, la différence entre les deux otpions de scikit-learn, en l'occurrence `log2` et `sqrt` est minime.\n",
    "\n",
    "**<font color='red'>Remarque:</font>** Parfois, le paramètre `min_impurity_decrease` est utilisé pour régulariser les random forest. `min_impurity_decrease` permet de n'ajouter de split que si le split permet un certain gain de performance. Ceci ne prend pas donc en compte l'interaction entre les variables. Il arrive que le premier split ne soit pas optimal mais que l'ensemble de deux splits consécutifs permette de bien discriminer les données\n",
    "\n",
    "Dans notre cas, nous allons **entrainer une GridSearch avec 240 combinaisons de paramètres différents**, cela signifie que **nos données seront entrainés sur 120 modèles.**"
   ]
  },
  {
   "cell_type": "code",
   "execution_count": 29,
   "metadata": {},
   "outputs": [],
   "source": [
    "from sklearn.model_selection import GridSearchCV\n",
    "\n",
    "# Instantiate GridSearchCV\n",
    "param_grid = {\n",
    "    \"n_estimators\": [50, 100, 300, 500],\n",
    "    \"min_samples_leaf\": [1, 5, 10],\n",
    "    \"max_depth\": [2, 4, 6, 8, 10],\n",
    "    \"max_features\": [\"auto\", \"sqrt\"],\n",
    "}\n",
    "\n",
    "rf_model = RandomForestRegressor(oob_score=True)\n",
    "\n",
    "model_gridsearch = GridSearchCV(\n",
    "    estimator=rf_model,\n",
    "    param_grid=param_grid,\n",
    "    n_jobs=-1,\n",
    "    cv=4,\n",
    "    refit=True,\n",
    "    return_train_score=True,\n",
    ")"
   ]
  },
  {
   "cell_type": "markdown",
   "metadata": {},
   "source": [
    "Ensuite nous allons **entrainer la classe GridSearchCV** avec la **méthode \"fit()\"**.\n",
    "\n",
    "**<font color='red'>Remarque:</font>** Comme on passe par la validation croisée et qu'on a en plus le oob_score, on va créer un nouveau train set qui correspond à l'ancien train set augmenté de la validation set.\n",
    "Cette démarche n'est pas correcte à 100% vu que le pipeline de transformation de données n'a été entrainé que sur le train set mais ça nous évitera de refaire le pipeline (et donc de gagner du temps😅)"
   ]
  },
  {
   "cell_type": "code",
   "execution_count": 30,
   "metadata": {},
   "outputs": [
    {
     "name": "stdout",
     "output_type": "stream",
     "text": [
      "GridSearchCV took 819.55 seconds for 120 candidate parameter settings.\n"
     ]
    }
   ],
   "source": [
    "import time\n",
    "\n",
    "start = time.time()\n",
    "model_gridsearch.fit(pd.concat([X_train, X_val]), pd.concat([y_train, y_val]))\n",
    "print(\n",
    "    \"GridSearchCV took %.2f seconds for %d candidate parameter settings.\"\n",
    "    % ((time.time() - start), len(model_gridsearch.cv_results_[\"params\"]))\n",
    ")"
   ]
  },
  {
   "cell_type": "markdown",
   "metadata": {},
   "source": [
    "Une fois le modèle implémenté et entrainé, nous analysons **les performances du modèle sur l'ensemble d'apprentissage ainsi que sur l'ensemble de test** comme suit :"
   ]
  },
  {
   "cell_type": "code",
   "execution_count": 31,
   "metadata": {},
   "outputs": [
    {
     "data": {
      "text/plain": [
       "0.8884169819343597"
      ]
     },
     "execution_count": 31,
     "metadata": {},
     "output_type": "execute_result"
    }
   ],
   "source": [
    "y_train_grid = model_gridsearch.predict(pd.concat([X_train, X_val]))\n",
    "r2_score(pd.concat([y_train, y_val]), y_train_grid)"
   ]
  },
  {
   "cell_type": "markdown",
   "metadata": {},
   "source": [
    "On calcule le score OOB qui est équivalent au score de validation. La valeur du score OOB va nous permettre de voir si le modèle overfitte."
   ]
  },
  {
   "cell_type": "code",
   "execution_count": 32,
   "metadata": {},
   "outputs": [
    {
     "data": {
      "text/plain": [
       "0.8621597585405792"
      ]
     },
     "execution_count": 32,
     "metadata": {},
     "output_type": "execute_result"
    }
   ],
   "source": [
    "model_gridsearch.best_estimator_.oob_score_"
   ]
  },
  {
   "cell_type": "markdown",
   "metadata": {},
   "source": [
    "On voit que les paramètres issus du grid search ont permis de réduire l'overfitting."
   ]
  },
  {
   "cell_type": "markdown",
   "metadata": {},
   "source": [
    "Suite à **l'implémentation du GridSearch**, nous obtenons **le modèle et les hyper-paramètres qui permettent d'avoir une très bonne performance sur nos données.** \n",
    "\n",
    "Nous arrivons à avoir **des performances semblables sur l'ensemble d'apprentissage et sur l'ensemble de validation** ce qui nous permet d'éviter le problème d'overfitting survenu au niveau de la première partie du notebook dans l'implémentation du modèle de RandomForest simple en paramètrant uniquement le nombre d'arbres de décisions à entrainer \"n_estimators\"."
   ]
  },
  {
   "cell_type": "markdown",
   "metadata": {},
   "source": [
    "Maintenant, on évalue la performance du **modèle retenu** sur le test set pour avoir les performances du modèle."
   ]
  },
  {
   "cell_type": "code",
   "execution_count": 33,
   "metadata": {},
   "outputs": [
    {
     "data": {
      "text/plain": [
       "0.8605156388045487"
      ]
     },
     "execution_count": 33,
     "metadata": {},
     "output_type": "execute_result"
    }
   ],
   "source": [
    "y_pred_grid = model_gridsearch.predict(X_test)\n",
    "r2_score(y_test, y_pred_grid)"
   ]
  },
  {
   "cell_type": "markdown",
   "metadata": {},
   "source": [
    "<hr>\n",
    "Nous trouverons ci-dessous quelques **propriétés utilses afin d'accèder aux différents éléments du GridSearch** :"
   ]
  },
  {
   "cell_type": "markdown",
   "metadata": {},
   "source": [
    "La fonction **\"cv_results_\"** permet d'obtenir **les résultats de la cross validation :**"
   ]
  },
  {
   "cell_type": "code",
   "execution_count": null,
   "metadata": {},
   "outputs": [],
   "source": [
    "print(\"Best Results:\", model_gridsearch.cv_results_)"
   ]
  },
  {
   "cell_type": "markdown",
   "metadata": {},
   "source": [
    "La fonction **\"best_score_\"** permet de renvoyer **le meilleur score suite à la cross validation :**"
   ]
  },
  {
   "cell_type": "code",
   "execution_count": 35,
   "metadata": {},
   "outputs": [
    {
     "name": "stdout",
     "output_type": "stream",
     "text": [
      "Best Score: 0.8612346539373587\n"
     ]
    }
   ],
   "source": [
    "print(\"Best Score:\", model_gridsearch.best_score_)"
   ]
  },
  {
   "cell_type": "markdown",
   "metadata": {},
   "source": [
    "La fonction **\"best_params_\"** permet d'obtenir **les hyper-paramètres permettant d'avoir le meilleur score :**"
   ]
  },
  {
   "cell_type": "code",
   "execution_count": 36,
   "metadata": {},
   "outputs": [
    {
     "name": "stdout",
     "output_type": "stream",
     "text": [
      "Best params: {'max_depth': 10, 'max_features': 'auto', 'min_samples_leaf': 1, 'n_estimators': 500}\n"
     ]
    }
   ],
   "source": [
    "print(\"Best params:\", model_gridsearch.best_params_)"
   ]
  },
  {
   "cell_type": "markdown",
   "metadata": {},
   "source": [
    "On voit que le modèle final correspond au modèle avec le minimum de régularisation au niveau de la grille et que le modèle n'overfitte pas"
   ]
  },
  {
   "cell_type": "markdown",
   "metadata": {},
   "source": [
    "La fonction **\"best_estimator_\"** permet de stocker **le modèle le plus performant :**"
   ]
  },
  {
   "cell_type": "code",
   "execution_count": 37,
   "metadata": {},
   "outputs": [
    {
     "name": "stdout",
     "output_type": "stream",
     "text": [
      "Best estimator: RandomForestRegressor(max_depth=10, n_estimators=500, oob_score=True)\n"
     ]
    }
   ],
   "source": [
    "print(\"Best estimator:\", model_gridsearch.best_estimator_)"
   ]
  }
 ],
 "metadata": {
  "kernelspec": {
   "display_name": "Python 3 (ipykernel)",
   "language": "python",
   "name": "python3"
  },
  "language_info": {
   "codemirror_mode": {
    "name": "ipython",
    "version": 3
   },
   "file_extension": ".py",
   "mimetype": "text/x-python",
   "name": "python",
   "nbconvert_exporter": "python",
   "pygments_lexer": "ipython3",
   "version": "3.11.4"
  }
 },
 "nbformat": 4,
 "nbformat_minor": 4
}
