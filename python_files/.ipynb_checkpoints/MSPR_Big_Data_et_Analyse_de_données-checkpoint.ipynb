{
 "cells": [
  {
   "cell_type": "code",
   "execution_count": 5,
   "id": "e35ac16c",
   "metadata": {
    "ExecuteTime": {
     "end_time": "2024-04-17T13:21:42.474432100Z",
     "start_time": "2024-04-17T13:21:42.442410600Z"
    }
   },
   "outputs": [],
   "source": [
    "import pandas as pd"
   ]
  },
  {
   "cell_type": "code",
   "execution_count": null,
   "id": "26a8685a",
   "metadata": {
    "ExecuteTime": {
     "end_time": "2024-04-17T13:20:18.084937100Z",
     "start_time": "2024-04-17T13:19:57.280400700Z"
    }
   },
   "outputs": [],
   "source": [
    "resultats_elections_france = r'C:\\Users\\Mehdi\\OneDrive\\Bureau\\mspr_data\\excel_files\\donnee_resultats_elections_france.xlsx'\n",
    "df_resultats_elections_france = pd.read_excel(resultats_elections_france)"
   ]
  },
  {
   "cell_type": "code",
   "execution_count": null,
   "id": "80abbc87d44a3caf",
   "metadata": {},
   "outputs": [],
   "source": [
    "df_resultats_elections_france.head()"
   ]
  },
  {
   "cell_type": "code",
   "execution_count": 11,
   "id": "9ca5b0675f69a5de",
   "metadata": {
    "ExecuteTime": {
     "end_time": "2024-04-17T13:21:49.436699100Z",
     "start_time": "2024-04-17T13:21:49.284218900Z"
    }
   },
   "outputs": [],
   "source": [
    "df_anciennes_nouvelles_regions = pd.read_csv(r'C:/Users/Mehdi/OneDrive/Bureau/mspr_data/excel_files/anciennes-nouvelles-regions.csv',sep=';' ,encoding='latin1')"
   ]
  },
  {
   "cell_type": "code",
   "execution_count": 12,
   "id": "7560d19de6b899d1",
   "metadata": {},
   "outputs": [
    {
     "data": {
      "text/html": [
       "<div>\n",
       "<style scoped>\n",
       "    .dataframe tbody tr th:only-of-type {\n",
       "        vertical-align: middle;\n",
       "    }\n",
       "\n",
       "    .dataframe tbody tr th {\n",
       "        vertical-align: top;\n",
       "    }\n",
       "\n",
       "    .dataframe thead th {\n",
       "        text-align: right;\n",
       "    }\n",
       "</style>\n",
       "<table border=\"1\" class=\"dataframe\">\n",
       "  <thead>\n",
       "    <tr style=\"text-align: right;\">\n",
       "      <th></th>\n",
       "      <th>ÿNouveau Code</th>\n",
       "      <th>Nouveau Nom</th>\n",
       "      <th>Anciens Code</th>\n",
       "      <th>Anciens Nom</th>\n",
       "      <th>Nouveau nom normalisé</th>\n",
       "      <th>Ancien nom normalisé</th>\n",
       "      <th>SIREN</th>\n",
       "      <th>Nom Officiel Région Majuscule</th>\n",
       "    </tr>\n",
       "  </thead>\n",
       "  <tbody>\n",
       "    <tr>\n",
       "      <th>0</th>\n",
       "      <td>28</td>\n",
       "      <td>Normandie</td>\n",
       "      <td>25</td>\n",
       "      <td>Basse-Normandie</td>\n",
       "      <td>normandie</td>\n",
       "      <td>basse normandie</td>\n",
       "      <td>200053403.0</td>\n",
       "      <td>NORMANDIE</td>\n",
       "    </tr>\n",
       "    <tr>\n",
       "      <th>1</th>\n",
       "      <td>28</td>\n",
       "      <td>Normandie</td>\n",
       "      <td>25</td>\n",
       "      <td>Basse-Normandie</td>\n",
       "      <td>normandie</td>\n",
       "      <td>basse normandie</td>\n",
       "      <td>237600010.0</td>\n",
       "      <td>NORMANDIE</td>\n",
       "    </tr>\n",
       "    <tr>\n",
       "      <th>2</th>\n",
       "      <td>27</td>\n",
       "      <td>Bourgogne-Franche-Comté</td>\n",
       "      <td>43</td>\n",
       "      <td>Franche-Comté</td>\n",
       "      <td>bourgogne franche comte</td>\n",
       "      <td>franche comte</td>\n",
       "      <td>232500017.0</td>\n",
       "      <td>BOURGOGNE FRANCHE COMTE</td>\n",
       "    </tr>\n",
       "    <tr>\n",
       "      <th>3</th>\n",
       "      <td>44</td>\n",
       "      <td>Grand Est</td>\n",
       "      <td>42</td>\n",
       "      <td>Alsace</td>\n",
       "      <td>grand est</td>\n",
       "      <td>alsace</td>\n",
       "      <td>236700019.0</td>\n",
       "      <td>GRAND EST</td>\n",
       "    </tr>\n",
       "    <tr>\n",
       "      <th>4</th>\n",
       "      <td>76</td>\n",
       "      <td>Occitanie</td>\n",
       "      <td>73</td>\n",
       "      <td>Midi-Pyrénées</td>\n",
       "      <td>occitanie</td>\n",
       "      <td>midi pyrenees</td>\n",
       "      <td>233100015.0</td>\n",
       "      <td>OCCITANIE</td>\n",
       "    </tr>\n",
       "  </tbody>\n",
       "</table>\n",
       "</div>"
      ],
      "text/plain": [
       "   ÿNouveau Code              Nouveau Nom  Anciens Code      Anciens Nom  \\\n",
       "0             28                Normandie            25  Basse-Normandie   \n",
       "1             28                Normandie            25  Basse-Normandie   \n",
       "2             27  Bourgogne-Franche-Comté            43    Franche-Comté   \n",
       "3             44                Grand Est            42           Alsace   \n",
       "4             76                Occitanie            73    Midi-Pyrénées   \n",
       "\n",
       "     Nouveau nom normalisé Ancien nom normalisé        SIREN  \\\n",
       "0                normandie      basse normandie  200053403.0   \n",
       "1                normandie      basse normandie  237600010.0   \n",
       "2  bourgogne franche comte        franche comte  232500017.0   \n",
       "3                grand est               alsace  236700019.0   \n",
       "4                occitanie        midi pyrenees  233100015.0   \n",
       "\n",
       "  Nom Officiel Région Majuscule  \n",
       "0                     NORMANDIE  \n",
       "1                     NORMANDIE  \n",
       "2       BOURGOGNE FRANCHE COMTE  \n",
       "3                     GRAND EST  \n",
       "4                     OCCITANIE  "
      ]
     },
     "execution_count": 12,
     "metadata": {},
     "output_type": "execute_result"
    }
   ],
   "source": [
    "df_anciennes_nouvelles_regions.head()"
   ]
  },
  {
   "cell_type": "code",
   "execution_count": 18,
   "id": "ea12f83650edb56b",
   "metadata": {
    "ExecuteTime": {
     "end_time": "2024-04-17T13:12:26.442332800Z",
     "start_time": "2024-04-17T13:12:26.357333200Z"
    }
   },
   "outputs": [],
   "source": [
    "socioprofessionnelle = r'C:\\Users\\Mehdi\\OneDrive\\Bureau\\mspr_data\\excel_files\\donnée_socioprofessionnelle_2020.xlsx'\n",
    "df_socioprofessionnelle = pd.read_excel(socioprofessionnelle)"
   ]
  },
  {
   "cell_type": "code",
   "execution_count": 19,
   "id": "29550a2f3492e149",
   "metadata": {
    "ExecuteTime": {
     "end_time": "2024-04-17T13:12:28.350552100Z",
     "start_time": "2024-04-17T13:12:28.289507200Z"
    }
   },
   "outputs": [
    {
     "data": {
      "text/html": [
       "<div>\n",
       "<style scoped>\n",
       "    .dataframe tbody tr th:only-of-type {\n",
       "        vertical-align: middle;\n",
       "    }\n",
       "\n",
       "    .dataframe tbody tr th {\n",
       "        vertical-align: top;\n",
       "    }\n",
       "\n",
       "    .dataframe thead th {\n",
       "        text-align: right;\n",
       "    }\n",
       "</style>\n",
       "<table border=\"1\" class=\"dataframe\">\n",
       "  <thead>\n",
       "    <tr style=\"text-align: right;\">\n",
       "      <th></th>\n",
       "      <th>Code</th>\n",
       "      <th>Départements</th>\n",
       "      <th>Part des agriculteurs exploitants</th>\n",
       "      <th>Part des artisans, comm., chefs d’entr.</th>\n",
       "      <th>Part des cadres, professions intellect. supérieures</th>\n",
       "      <th>Part des professions interméd.</th>\n",
       "      <th>Part des employés</th>\n",
       "      <th>Part des ouvriers</th>\n",
       "      <th>Autres</th>\n",
       "    </tr>\n",
       "  </thead>\n",
       "  <tbody>\n",
       "    <tr>\n",
       "      <th>0</th>\n",
       "      <td>01</td>\n",
       "      <td>Ain</td>\n",
       "      <td>1.0</td>\n",
       "      <td>6.3</td>\n",
       "      <td>14.9</td>\n",
       "      <td>26.7</td>\n",
       "      <td>26.2</td>\n",
       "      <td>24.1</td>\n",
       "      <td>0.7</td>\n",
       "    </tr>\n",
       "    <tr>\n",
       "      <th>1</th>\n",
       "      <td>02</td>\n",
       "      <td>Aisne</td>\n",
       "      <td>1.7</td>\n",
       "      <td>4.9</td>\n",
       "      <td>8.2</td>\n",
       "      <td>22.3</td>\n",
       "      <td>30.0</td>\n",
       "      <td>30.4</td>\n",
       "      <td>2.5</td>\n",
       "    </tr>\n",
       "    <tr>\n",
       "      <th>2</th>\n",
       "      <td>03</td>\n",
       "      <td>Allier</td>\n",
       "      <td>3.3</td>\n",
       "      <td>6.6</td>\n",
       "      <td>8.9</td>\n",
       "      <td>22.6</td>\n",
       "      <td>31.3</td>\n",
       "      <td>26.1</td>\n",
       "      <td>1.2</td>\n",
       "    </tr>\n",
       "    <tr>\n",
       "      <th>3</th>\n",
       "      <td>04</td>\n",
       "      <td>Alpes-de-Haute-Provence</td>\n",
       "      <td>2.6</td>\n",
       "      <td>10.0</td>\n",
       "      <td>11.4</td>\n",
       "      <td>25.6</td>\n",
       "      <td>28.9</td>\n",
       "      <td>20.4</td>\n",
       "      <td>1.1</td>\n",
       "    </tr>\n",
       "    <tr>\n",
       "      <th>4</th>\n",
       "      <td>05</td>\n",
       "      <td>Hautes-Alpes</td>\n",
       "      <td>2.9</td>\n",
       "      <td>9.5</td>\n",
       "      <td>9.9</td>\n",
       "      <td>27.2</td>\n",
       "      <td>31.3</td>\n",
       "      <td>18.5</td>\n",
       "      <td>0.6</td>\n",
       "    </tr>\n",
       "  </tbody>\n",
       "</table>\n",
       "</div>"
      ],
      "text/plain": [
       "  Code             Départements  Part des agriculteurs exploitants  \\\n",
       "0   01                      Ain                                1.0   \n",
       "1   02                    Aisne                                1.7   \n",
       "2   03                   Allier                                3.3   \n",
       "3   04  Alpes-de-Haute-Provence                                2.6   \n",
       "4   05             Hautes-Alpes                                2.9   \n",
       "\n",
       "   Part des artisans, comm., chefs d’entr.  \\\n",
       "0                                      6.3   \n",
       "1                                      4.9   \n",
       "2                                      6.6   \n",
       "3                                     10.0   \n",
       "4                                      9.5   \n",
       "\n",
       "   Part des cadres, professions intellect. supérieures  \\\n",
       "0                                               14.9     \n",
       "1                                                8.2     \n",
       "2                                                8.9     \n",
       "3                                               11.4     \n",
       "4                                                9.9     \n",
       "\n",
       "   Part des professions interméd.  Part des employés  Part des ouvriers  \\\n",
       "0                            26.7               26.2               24.1   \n",
       "1                            22.3               30.0               30.4   \n",
       "2                            22.6               31.3               26.1   \n",
       "3                            25.6               28.9               20.4   \n",
       "4                            27.2               31.3               18.5   \n",
       "\n",
       "   Autres  \n",
       "0     0.7  \n",
       "1     2.5  \n",
       "2     1.2  \n",
       "3     1.1  \n",
       "4     0.6  "
      ]
     },
     "execution_count": 19,
     "metadata": {},
     "output_type": "execute_result"
    }
   ],
   "source": [
    "df_socioprofessionnelle.head()"
   ]
  },
  {
   "cell_type": "code",
   "execution_count": null,
   "id": "9fe6268bffcc0bd1",
   "metadata": {},
   "outputs": [],
   "source": [
    "densite_population = r'C:\\Users\\Mehdi\\OneDrive\\Bureau\\mspr_data\\excel_files\\Donnée_densité_population.xlsx'\n",
    "df_densite_population = pd.read_excel(densite_population)\n",
    "df_densite_population(5)"
   ]
  },
  {
   "cell_type": "code",
   "execution_count": null,
   "id": "37cd0ef7c133c4ef",
   "metadata": {},
   "outputs": [],
   "source": [
    "taux_chomage = r'C:\\Users\\Mehdi\\OneDrive\\Bureau\\mspr_data\\excel_files\\Donnee_taux_chomage.xlsx'\n",
    "df_taux_chomage = pd.read_excel(taux_chomage)\n",
    "df_taux_chomage"
   ]
  },
  {
   "cell_type": "code",
   "execution_count": null,
   "id": "e3788f8ffd01b4db",
   "metadata": {},
   "outputs": [],
   "source": [
    "securite_geographique = r'C:\\Users\\Mehdi\\OneDrive\\Bureau\\mspr_data\\excel_files\\donnee_securite_geographie.csv'\n",
    "df_securite_geographique = pd.read_csv(securite_geographique)\n",
    "df_securite_geographique"
   ]
  },
  {
   "cell_type": "code",
   "execution_count": null,
   "id": "683f3e0187970db6",
   "metadata": {},
   "outputs": [],
   "source": [
    "revenu_fiscal_moyen = r'C:\\Users\\Mehdi\\OneDrive\\Bureau\\mspr_data\\excel_files\\Donnee_revenu_fiscal_moyen.xlsx'\n",
    "df_revenu_fiscal_moyen = pd.read_excel(revenu_fiscal_moyen)\n",
    "df_revenu_fiscal_moyen"
   ]
  },
  {
   "cell_type": "code",
   "execution_count": null,
   "id": "c30f7a224885b728",
   "metadata": {},
   "outputs": [],
   "source": [
    "age_sexe = r'C:\\Users\\Mehdi\\OneDrive\\Bureau\\mspr_data\\excel_files\\donnee_age_sexe_2019.xlsx'\n",
    "df_age_sexe = pd.read_excel(age_sexe)\n",
    "df_age_sexe"
   ]
  },
  {
   "cell_type": "code",
   "execution_count": null,
   "id": "b94b66f58eb4cc1c",
   "metadata": {},
   "outputs": [],
   "source": []
  },
  {
   "cell_type": "code",
   "execution_count": null,
   "id": "1016f0d797dad522",
   "metadata": {},
   "outputs": [],
   "source": []
  },
  {
   "cell_type": "code",
   "execution_count": null,
   "id": "86e3d2095f3de732",
   "metadata": {},
   "outputs": [],
   "source": []
  },
  {
   "cell_type": "code",
   "execution_count": null,
   "id": "20bf369ae23b89bf",
   "metadata": {},
   "outputs": [],
   "source": []
  },
  {
   "cell_type": "code",
   "execution_count": null,
   "id": "2e96eaf1d88fcb5d",
   "metadata": {},
   "outputs": [],
   "source": []
  }
 ],
 "metadata": {
  "kernelspec": {
   "display_name": "Python 3 (ipykernel)",
   "language": "python",
   "name": "python3"
  },
  "language_info": {
   "codemirror_mode": {
    "name": "ipython",
    "version": 3
   },
   "file_extension": ".py",
   "mimetype": "text/x-python",
   "name": "python",
   "nbconvert_exporter": "python",
   "pygments_lexer": "ipython3",
   "version": "3.10.7"
  }
 },
 "nbformat": 4,
 "nbformat_minor": 5
}
